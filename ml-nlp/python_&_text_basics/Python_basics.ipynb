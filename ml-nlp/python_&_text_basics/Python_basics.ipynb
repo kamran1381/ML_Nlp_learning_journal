{
  "nbformat": 4,
  "nbformat_minor": 0,
  "metadata": {
    "colab": {
      "provenance": [],
      "collapsed_sections": [
        "N8XGM6KW_eTi",
        "XePU1zvG6iW0",
        "dGay5XyP67l_",
        "NyfaDHBW9BtB",
        "TpOnH4OX-UW0",
        "LSwiLjwF_qvE",
        "5oeapFkUAbfp"
      ]
    },
    "kernelspec": {
      "display_name": "Python 3",
      "language": "python",
      "name": "python3"
    },
    "language_info": {
      "codemirror_mode": {
        "name": "ipython",
        "version": 3
      },
      "file_extension": ".py",
      "mimetype": "text/x-python",
      "name": "python",
      "nbconvert_exporter": "python",
      "pygments_lexer": "ipython3",
      "version": "3.7.0"
    }
  },
  "cells": [
    {
      "cell_type": "markdown",
      "metadata": {
        "id": "Yf5WDw7O5eDs"
      },
      "source": [
        "# Python Basics\n",
        "In this notebook I will try to gather and review notes on python for Machine learning. Each section is organized with code snippets and explanations at the top. This is going to be a fun expereince working with google colab Notebook."
      ]
    },
    {
      "cell_type": "markdown",
      "metadata": {
        "id": "Zw7dm_p72W__"
      },
      "source": [
        "##What is Python?\n",
        "\n",
        "Python is a high-level, dynamically typed multiparadigm programming language. Python code is often said to be almost like **pseudocode**, since it allows you to express very powerful **ideas** in very few lines of code while being very readable.\n",
        "\n",
        "\n",
        "\n"
      ]
    },
    {
      "cell_type": "markdown",
      "metadata": {
        "id": "kdmA_aQR52Xf"
      },
      "source": [
        "##Python versions\n",
        "\n",
        "There are currently two different supported versions of Python, 2.7 and 3.13 Somewhat confusingly, Python 3.0 introduced many backwards-incompatible changes to the language, so code written for 2.7 may not work under 3.13 and vice versa. For this learning process the most recent version will be used.\n",
        "\n",
        "\n",
        "\n"
      ]
    },
    {
      "cell_type": "markdown",
      "metadata": {
        "id": "w6vIzTKZ-rEq"
      },
      "source": [
        "##Basic data types\n",
        "\n",
        "Like most languages, Python has a number of basic types including **integers**, **floats**, **booleans**, and **strings**. These data types behave in ways that are familiar from other programming languages.\n"
      ]
    },
    {
      "cell_type": "markdown",
      "metadata": {
        "id": "N8XGM6KW_eTi"
      },
      "source": [
        "\n",
        "###Numbers\n",
        "\n",
        "Integers and floats work as you would expect from other languages:"
      ]
    },
    {
      "cell_type": "code",
      "metadata": {
        "id": "NwiAvjv06UK4",
        "colab": {
          "base_uri": "https://localhost:8080/"
        },
        "outputId": "4b89c80e-18ba-4a3d-d2c1-2c34c5135c54"
      },
      "source": [
        "# Int\n",
        "x = 3\n",
        "print(type(x)) # Prints \"<class 'int'>\"\n",
        "print(x)       # Prints \"3\"\n",
        "print(x + 1)   # Addition; prints \"4\"\n",
        "print(x - 1)   # Subtraction; prints \"2\"\n",
        "print(x * 2)   # Multiplication; prints \"6\"\n",
        "print(x ** 3)  # Exponentiation; prints \"27\"\n",
        "x += 1 # x = x+1\n",
        "print(x)  # Prints \"4\"\n",
        "x *= 2\n",
        "print(x)  # Prints \"8\"\n",
        "\n",
        "# Float\n",
        "y = 2.5\n",
        "print(type(y)) # Prints \"<class 'float'>\"\n",
        "print(y, y + 1, y * 2, y ** 2) # Prints \"2.5 3.5 5.0 6.25\""
      ],
      "execution_count": null,
      "outputs": [
        {
          "output_type": "stream",
          "name": "stdout",
          "text": [
            "<class 'int'>\n",
            "3\n",
            "4\n",
            "2\n",
            "6\n",
            "27\n",
            "4\n",
            "8\n",
            "<class 'float'>\n",
            "2.5 3.5 5.0 6.25\n"
          ]
        }
      ]
    },
    {
      "cell_type": "markdown",
      "metadata": {
        "id": "XePU1zvG6iW0"
      },
      "source": [
        "Note that unlike many languages, Python does not have unary increment (`x++`) or decrement (`x--`) operators.\n",
        "\n",
        "\n",
        "###Booleans\n",
        "\n",
        "Python implements all of the usual operators for Boolean logic, but uses English words rather than symbols (`&&`, `||`, etc.):\n"
      ]
    },
    {
      "cell_type": "code",
      "metadata": {
        "id": "uCplgjE36yBl",
        "colab": {
          "base_uri": "https://localhost:8080/"
        },
        "outputId": "9e82b7c2-5d0f-4678-e0bb-6799072dde4c"
      },
      "source": [
        "t = True\n",
        "f = False\n",
        "print(type(t)) # Prints \"<class 'bool'>\"\n",
        "print(t and f) # Logical AND; prints \"False\"\n",
        "print(t or f)  # Logical OR; prints \"True\"\n",
        "print(not t)   # Logical NOT; prints \"False\"\n",
        "print(t != f)  # Logical XOR; prints \"True\""
      ],
      "execution_count": null,
      "outputs": [
        {
          "output_type": "stream",
          "name": "stdout",
          "text": [
            "<class 'bool'>\n",
            "False\n",
            "True\n",
            "False\n",
            "True\n"
          ]
        }
      ]
    },
    {
      "cell_type": "markdown",
      "metadata": {
        "id": "dGay5XyP67l_"
      },
      "source": [
        "###Strings\n",
        "\n",
        "Python has great support for strings: ____\n",
        "when you put some value into a string you can not later add it with another value. especially a number, later they can not be added as integer or floats"
      ]
    },
    {
      "cell_type": "code",
      "metadata": {
        "id": "LhLrXu6U7BAg",
        "colab": {
          "base_uri": "https://localhost:8080/"
        },
        "outputId": "f8d3cbf6-53b9-4d92-bf26-077daef9114a"
      },
      "source": [
        "text = '10'\n",
        "integer = int(text)\n",
        "print(f'my daughter is {integer} years old' + \"\\n\" + 'she is interested in learning chess') # the f string method can be used to access and put varible values inside strings\n",
        "\n",
        "\n"
      ],
      "execution_count": null,
      "outputs": [
        {
          "output_type": "stream",
          "name": "stdout",
          "text": [
            "my daughter is 10 years old\n",
            "she is interested in learning chess\n"
          ]
        }
      ]
    },
    {
      "cell_type": "markdown",
      "metadata": {
        "id": "-8XeIBsB7G8o"
      },
      "source": [
        "String objects have a bunch of useful methods; for example:\n",
        "\n"
      ]
    },
    {
      "cell_type": "code",
      "metadata": {
        "id": "SkB_bFXk7SNW",
        "colab": {
          "base_uri": "https://localhost:8080/"
        },
        "outputId": "55ddfa17-ff9e-484e-a95e-b31027a90011"
      },
      "source": [
        "s = \"hello\"\n",
        "print(s.capitalize())  # Capitalize a string; prints \"Hello\"\n",
        "print(s.upper())       # Convert a string to uppercase; prints \"HELLO\"\n",
        "print(s.rjust(7))      # Right-justify a string, padding with spaces; prints \"  hello\"\n",
        "print(s.center(7))     # Center a string, padding with spaces; prints \" hello \"\n",
        "print(s.replace('l', 'oo'))  # Replace all instances of one substring with another;\n",
        "                             # prints \"he(ell)(ell)o\"\n",
        "print('  world '.strip())  # Strip leading and trailing whitespace; prints \"world\""
      ],
      "execution_count": null,
      "outputs": [
        {
          "output_type": "stream",
          "name": "stdout",
          "text": [
            "Hello\n",
            "HELLO\n",
            "  hello\n",
            " hello \n",
            "heooooo\n",
            "world\n"
          ]
        }
      ]
    },
    {
      "cell_type": "markdown",
      "metadata": {
        "id": "2Rr-s0dw7alf"
      },
      "source": [
        "\n",
        "\n",
        "##Containers\n",
        "\n",
        "Python includes several built-in container types: lists, dictionaries, sets, and tuples.\n",
        "\n"
      ]
    },
    {
      "cell_type": "markdown",
      "metadata": {
        "id": "n5ax4hXF_poS"
      },
      "source": [
        "###Lists\n",
        "\n",
        "A list is the Python equivalent of an array, but is resizeable and can contain elements of different types:"
      ]
    },
    {
      "cell_type": "code",
      "metadata": {
        "id": "6FKyFx6X7wuQ",
        "colab": {
          "base_uri": "https://localhost:8080/"
        },
        "outputId": "beafd342-cf33-4930-c715-020551b507d9"
      },
      "source": [
        "Names = ['kamran' , 'salar' , 'ahmad'] # a list can be used to store an array of data\n",
        "\n",
        "# print(Names , type(Names) , Names[0]) # the index number can be used to access that same value\n",
        "\n",
        "Names.append('amir') #append something into the array\n",
        "\n",
        "Names.insert(1 , 'hadai') # in order to insert into a position\n",
        "\n",
        "Names[2] = 'sara' # to change a value in the array\n",
        "\n",
        "Names.remove('sara')   #remove an item from the array\n",
        "\n",
        "Names.pop(0) #remove using pop by providing index of the item in question\n",
        "\n",
        "Names.reverse() # in order to reverse the array\n",
        "\n",
        "print(len(Names)) # get the lenght of items of the array\n",
        "print(Names)\n",
        "\n"
      ],
      "execution_count": null,
      "outputs": [
        {
          "output_type": "stream",
          "name": "stdout",
          "text": [
            "3\n",
            "['amir', 'ahmad', 'hadai']\n"
          ]
        }
      ]
    },
    {
      "cell_type": "markdown",
      "metadata": {
        "id": "LfkiNtNw76_v"
      },
      "source": [
        "\n",
        "\n",
        "```\n",
        "# This is formatted as code\n",
        "```\n",
        "\n",
        "####Slicing\n",
        "\n",
        "In addition to accessing list elements one at a time, Python provides concise syntax to access sublists; this is known as *slicing*:\n",
        "\n",
        "*list indices must be integers or slices not nuples\""
      ]
    },
    {
      "cell_type": "code",
      "metadata": {
        "id": "TvGnycL78mVD",
        "colab": {
          "base_uri": "https://localhost:8080/"
        },
        "outputId": "47fb621b-d239-456b-9f38-fa89d50e7797"
      },
      "source": [
        "nums = list(range(5))     # range is a built-in function that creates a list of integers\n",
        "print(nums)               # Prints \"[0, 1, 2, 3, 4]\"\n",
        "print(nums[2:4])          # Get a slice from index 2 to 4 (exclusive); prints \"[2, 3]\"\n",
        "print(nums[2:])           # Get a slice from index 2 to the end; prints \"[2, 3, 4]\"\n",
        "print(nums[:2])           # Get a slice from the start to index 2 (exclusive); prints \"[0, 1]\"\n",
        "print(nums[:])            # Get a slice of the whole list; prints \"[0, 1, 2, 3, 4]\"\n",
        "print(nums[:-1])          # Slice indices can be negative; prints \"[0, 1, 2, 3]\"\n",
        "nums[2:4] = [8, 9]        # Assign a new sublist to a slice\n",
        "print(nums)               # Prints \"[0, 1, 8, 9, 4]\""
      ],
      "execution_count": null,
      "outputs": [
        {
          "output_type": "stream",
          "name": "stdout",
          "text": [
            "[0, 1, 2, 3, 4]\n",
            "[2, 3]\n",
            "[2, 3, 4]\n",
            "[0, 1]\n",
            "[0, 1, 2, 3, 4]\n",
            "[0, 1, 2, 3]\n",
            "[0, 1, 8, 9, 4]\n"
          ]
        }
      ]
    },
    {
      "cell_type": "markdown",
      "metadata": {
        "id": "P0iivb_Y8rnp"
      },
      "source": [
        "We will see slicing again in the context of numpy arrays.\n",
        "\n",
        "####Loops\n",
        "\n",
        "You can loop over the elements of a list like this:\n",
        "\n",
        "for lists only for loop can be used"
      ]
    },
    {
      "cell_type": "code",
      "metadata": {
        "id": "yPUSlyu58y-6",
        "colab": {
          "base_uri": "https://localhost:8080/"
        },
        "outputId": "7557f120-6629-4984-ca87-a8bc93193882"
      },
      "source": [
        "animals = ['cat', 'dog', 'monkey'] # list is iterable\n",
        "\n",
        "for animal in animals :   # the word 'animal' can be looked as an index number of the array\n",
        "    # print(animal)\n",
        "    print(animal , \"\", end =\"\" )   # this is to print all in one line\n"
      ],
      "execution_count": null,
      "outputs": [
        {
          "output_type": "stream",
          "name": "stdout",
          "text": [
            "cat dog monkey "
          ]
        }
      ]
    },
    {
      "cell_type": "markdown",
      "metadata": {
        "id": "TO6inPLA81UM"
      },
      "source": [
        "If you want access to the index of each element within the body of a loop, use the built-in `enumerate` function:\n",
        "\n"
      ]
    },
    {
      "cell_type": "code",
      "metadata": {
        "id": "Kvc_a47j89ds",
        "colab": {
          "base_uri": "https://localhost:8080/"
        },
        "outputId": "0b10a151-3106-4876-fcce-951cca1b486e"
      },
      "source": [
        "animals = ['cat', 'dog', 'monkey']\n",
        "# for idx, animal in enumerate(animals):\n",
        "#     # print('#%d: %s' % (idx +1 , animal)) # Prints \"#1: cat\", \"#2: dog\", \"#3: monkey\", each on its own line\n",
        "#     # print(idx +1 , animal , '' , end = '') # this prints then in a single line\n",
        "#     print(f'index  {idx + 1} : {animal}')\n",
        "\n",
        "#instead of manually adding 1 to indx like indx + 1 :\n",
        "# we can add manually add\n",
        "for index, x in enumerate(animals , start = 2) :\n",
        "   print(index , x)\n",
        "\n"
      ],
      "execution_count": null,
      "outputs": [
        {
          "output_type": "stream",
          "name": "stdout",
          "text": [
            "2 cat\n",
            "3 dog\n",
            "4 monkey\n"
          ]
        }
      ]
    },
    {
      "cell_type": "markdown",
      "metadata": {
        "id": "NyfaDHBW9BtB"
      },
      "source": [
        "\n",
        "\n",
        "```\n",
        "# This is formatted as code\n",
        "```\n",
        "\n",
        "####List comprehensions\n",
        "\n",
        "When programming, frequently we want to transform one type of data into another. As a simple example, consider the following code that computes square numbers:"
      ]
    },
    {
      "cell_type": "code",
      "metadata": {
        "id": "xkonhGPU9IE7",
        "colab": {
          "base_uri": "https://localhost:8080/"
        },
        "outputId": "afe343f9-9e09-4aaa-8159-e3ca19ff5cbe"
      },
      "source": [
        "nums = [0, 1, 2, 3, 4]\n",
        "# squares = []\n",
        "# for x in nums:\n",
        "#     squares.append(x ** 2)\n",
        "# print(squares)   # Prints [0, 1, 4, 9, 16]\n",
        "\n",
        "# another exmple of computing multiplying each number by 2 :\n",
        "numbers = [4 , 6 , 7 , 8 , 9]\n",
        "\n",
        "res = [val * 2 for val in numbers]\n",
        "\n",
        "# print(res)\n",
        "\n",
        "# flitering out even numbers from a list\n",
        "\n",
        "result = [val for val in numbers if val % 2 == 0]\n",
        "\n",
        "print(result)\n"
      ],
      "execution_count": null,
      "outputs": [
        {
          "output_type": "stream",
          "name": "stdout",
          "text": [
            "[4, 6, 8]\n"
          ]
        }
      ]
    },
    {
      "cell_type": "markdown",
      "metadata": {
        "id": "q0tcKCh79QNr"
      },
      "source": [
        "You can make this code simpler using a **list comprehension**:"
      ]
    },
    {
      "cell_type": "code",
      "metadata": {
        "id": "2pisAL3E9XcG",
        "colab": {
          "base_uri": "https://localhost:8080/"
        },
        "outputId": "0170e567-3908-4d05-8918-5d21e9a50dcc"
      },
      "source": [
        "nums = [0, 1, 2, 3, 4]\n",
        "squares = [x ** 2 for x in nums]\n",
        "print(squares)   # Prints [0, 1, 4, 9, 16]"
      ],
      "execution_count": null,
      "outputs": [
        {
          "output_type": "stream",
          "name": "stdout",
          "text": [
            "[0, 1, 4, 9, 16]\n"
          ]
        }
      ]
    },
    {
      "cell_type": "markdown",
      "metadata": {
        "id": "iyQWXYMn9ZPE"
      },
      "source": [
        "List comprehensions can also contain conditions:"
      ]
    },
    {
      "cell_type": "code",
      "metadata": {
        "id": "bflK2hns9bYI",
        "colab": {
          "base_uri": "https://localhost:8080/"
        },
        "outputId": "02f88b2c-cbee-4c46-f0bf-82cb01de0816"
      },
      "source": [
        "nums = [0, 1, 2, 3, 4]\n",
        "even_squares = [x ** 2 for x in nums if x % 2 == 0]\n",
        "print(even_squares)  # Prints \"[0, 4, 16]\""
      ],
      "execution_count": null,
      "outputs": [
        {
          "output_type": "stream",
          "name": "stdout",
          "text": [
            "[0, 4, 16]\n"
          ]
        }
      ]
    },
    {
      "cell_type": "markdown",
      "metadata": {
        "id": "2MyAS4vo9epl"
      },
      "source": [
        "###Dictionaries\n",
        "\n",
        "A dictionary stores (key, value) pairs, similar to a `Map` in Java or an object in Javascript. You can use it like this:"
      ]
    },
    {
      "cell_type": "code",
      "metadata": {
        "id": "uNV3up_M9ukq",
        "scrolled": true,
        "colab": {
          "base_uri": "https://localhost:8080/"
        },
        "outputId": "f2700e47-b9e5-44a5-8270-ddfdb269e07f"
      },
      "source": [
        "# dictionray can be created using curly bracket\n",
        "students = {1 : 'asiah' , 2 : 'lebron' , 3 : 'hart'}\n",
        "print(students)\n",
        "\n",
        "#create a dictionary using dict() contructor\n",
        "a = dict(a = '1' , b = '2' , c = '3')\n",
        "# print(a)\n",
        "\n",
        "fruits = {\"number1\" : \"apple\" , \"number2\" : \"orange\" , \"number3\" : \"grape\"}\n",
        "#We can access a value from a dictionary by using the key within square brackets or get()method\n",
        "\n",
        "#Access using key\n",
        "# print(students(\"aisah\"))\n",
        "# print(fruits['number1'])\n",
        "\n",
        "#Access using key\n",
        "# print(fruits.get(\"number2\"))\n",
        "\n",
        "#update a value in dictionary\n",
        "fruits[\"number3\"] = \"tomato\"\n",
        "# Adding a key value pair\n",
        "fruits[\"number4\"] = \"potato\"\n",
        "\n",
        "#pop to remove an item\n",
        "value = fruits.pop(\"number2\")\n",
        "print(value)"
      ],
      "execution_count": null,
      "outputs": [
        {
          "output_type": "stream",
          "name": "stdout",
          "text": [
            "{1: 'asiah', 2: 'lebron', 3: 'hart'}\n",
            "orange\n"
          ]
        }
      ]
    },
    {
      "cell_type": "markdown",
      "metadata": {
        "id": "lNMGvYcZ9x_T"
      },
      "source": [
        "\n",
        "####Loops\n",
        "\n",
        "It is easy to iterate over the keys in a dictionary:"
      ]
    },
    {
      "cell_type": "code",
      "metadata": {
        "id": "oow_R2x3-F36",
        "colab": {
          "base_uri": "https://localhost:8080/"
        },
        "outputId": "1d34eb7c-4f0f-4314-e617-0c8318b0f998"
      },
      "source": [
        "\n",
        "# x = [ {\"name\" : 'john' , \"creditCard\" : [\"0914\" , \"0913\"]} ,\n",
        "#        {\"name\" : 'alison' , \"creditCard\" : [\"2021\" , \"2022\"]}\n",
        "#       ]\n",
        "# for dude in x:\n",
        "#    name = dude[\"name\"]\n",
        "#    creditCards = dude[\"creditCard\"]\n",
        "#    print('%s credit number is : %s '% (name , creditCards))\n",
        "\n",
        "#while loop\n",
        "cnt = 0\n",
        "while (cnt < 3):\n",
        "    cnt = cnt + 1\n",
        "    print(\"Hello Kamran\")\n",
        "else:\n",
        "    print(\"In Else Block\")\n",
        "\n"
      ],
      "execution_count": null,
      "outputs": [
        {
          "output_type": "stream",
          "name": "stdout",
          "text": [
            "Hello Geek\n",
            "Hello Geek\n",
            "Hello Geek\n",
            "In Else Block\n"
          ]
        }
      ]
    },
    {
      "cell_type": "markdown",
      "metadata": {
        "id": "HrhqedOf-JOB"
      },
      "source": [
        "If you want access to keys and their corresponding values, use the `items` method:"
      ]
    },
    {
      "cell_type": "code",
      "metadata": {
        "id": "XIlLwZVg-PSF",
        "colab": {
          "base_uri": "https://localhost:8080/"
        },
        "outputId": "5c86d3da-e19b-4dc1-c7c6-5d96f9269979"
      },
      "source": [
        "# a= {\"name\" : \"Kamran\" ,\"job\" : \"researcher\" , \"age\" : \"23\"}\n",
        "\n",
        "# items = a.items()\n",
        "# print(items)\n",
        "\n",
        "# we can loop through the\n",
        "\n",
        "\n",
        "d = {'A': 'Python', 'B': 'Java', 'C': 'C++'}\n",
        "\n",
        "# using items() to iterate over dictionary\n",
        "for key, value in d.items():\n",
        "    print(f\"Key: {key}, Value: {value}\")"
      ],
      "execution_count": null,
      "outputs": [
        {
          "output_type": "stream",
          "name": "stdout",
          "text": [
            "Key: A, Value: Python\n",
            "Key: B, Value: Java\n",
            "Key: C, Value: C++\n"
          ]
        }
      ]
    },
    {
      "cell_type": "markdown",
      "metadata": {
        "id": "TpOnH4OX-UW0"
      },
      "source": [
        "\n",
        "\n",
        "```\n",
        "# This is formatted as code\n",
        "```\n",
        "\n",
        "####Dictionary comprehensions\n",
        "\n",
        "These are similar to list comprehensions, but allow you to easily construct dictionaries. For example:"
      ]
    },
    {
      "cell_type": "code",
      "metadata": {
        "id": "TRkSL9xy-agB",
        "colab": {
          "base_uri": "https://localhost:8080/"
        },
        "outputId": "1f503ae5-c840-4c1e-980d-1994411c04bd"
      },
      "source": [
        "# nums = [0, 1, 2, 3, 4]\n",
        "\n",
        "\n",
        "# even_num_to_square = {x: x ** 2 for x in nums if x % 2 == 0}\n",
        "# print(even_num_to_square)  # Prints \"{0: 0, 2: 4, 4: 16}\"\n",
        "\n",
        "# Use a dictionary comprehension to create a dictionary from the list nums that\n",
        "# contains only the numbers that are multiples of 3, and maps them to their cube (x³).\n",
        "nums = [1, 2, 3, 4, 5, 6, 7, 8, 9]\n",
        "\n",
        "mutiplies_of_three = {x : x ** 3  for x in nums if x % 3 == 0}\n",
        "\n",
        "print(mutiplies_of_three)\n",
        "\n"
      ],
      "execution_count": null,
      "outputs": [
        {
          "output_type": "stream",
          "name": "stdout",
          "text": [
            "{3: 27, 6: 216, 9: 729}\n"
          ]
        }
      ]
    },
    {
      "cell_type": "markdown",
      "metadata": {
        "id": "e1KTeO9L-dvv"
      },
      "source": [
        "###Sets\n",
        "\n",
        "A set is an unordered collection of distinct elements. As a simple example, consider the following:"
      ]
    },
    {
      "cell_type": "code",
      "metadata": {
        "id": "S5RHQxzU-zGT",
        "colab": {
          "base_uri": "https://localhost:8080/"
        },
        "outputId": "daeb903f-1675-4689-d27e-809677970d1e"
      },
      "source": [
        "animals = {'cat', 'dog'}\n",
        "print('cat' in animals)   # Check if an element is in a set; prints \"True\"\n",
        "print('fish' in animals)  # prints \"False\"\n",
        "animals.add('fish')       # Add an element to a set\n",
        "print('fish' in animals)  # Prints \"True\"\n",
        "print(len(animals))       # Number of elements in a set; prints \"3\"\n",
        "animals.add('cat')        # Adding an element that is already in the set does nothing\n",
        "print(len(animals))       # Prints \"3\"\n",
        "animals.remove('cat')     # Remove an element from a set\n",
        "print(len(animals))       # Prints \"2\""
      ],
      "execution_count": null,
      "outputs": [
        {
          "output_type": "stream",
          "name": "stdout",
          "text": [
            "True\n",
            "False\n",
            "True\n",
            "3\n",
            "3\n",
            "2\n"
          ]
        }
      ]
    },
    {
      "cell_type": "markdown",
      "metadata": {
        "id": "-DiSqVj_-2wc"
      },
      "source": [
        "\n",
        "\n",
        "####Loops\n",
        "\n",
        "Iterating over a set has the same syntax as iterating over a list; however since sets are unordered, you cannot make assumptions about the order in which you visit the elements of the set:"
      ]
    },
    {
      "cell_type": "code",
      "metadata": {
        "id": "AuI0Qbje_YjJ",
        "colab": {
          "base_uri": "https://localhost:8080/"
        },
        "outputId": "61eb8a9c-babc-44a3-990f-c3610e021196"
      },
      "source": [
        "animals = {'cat', 'dog', 'fish'}\n",
        "for idx, animal in enumerate(animals):\n",
        "    print('#%d: %s' % (idx + 1, animal))\n",
        "# Prints \"#1: fish\", \"#2: dog\", \"#3: cat\""
      ],
      "execution_count": null,
      "outputs": [
        {
          "output_type": "stream",
          "name": "stdout",
          "text": [
            "#1: cat\n",
            "#2: fish\n",
            "#3: dog\n"
          ]
        }
      ]
    },
    {
      "cell_type": "markdown",
      "metadata": {
        "id": "tYGLgdyi_dQZ"
      },
      "source": [
        "\n",
        "\n",
        "```\n",
        "# This is formatted as code\n",
        "```\n",
        "\n",
        "####Set comprehensions\n",
        "\n",
        "Like lists and dictionaries, we can easily construct sets using set comprehensions:"
      ]
    },
    {
      "cell_type": "code",
      "metadata": {
        "id": "zf0iW5wS_iti",
        "colab": {
          "base_uri": "https://localhost:8080/"
        },
        "outputId": "969d3cb2-1067-4de9-ed23-96ad9ca4341f"
      },
      "source": [
        "#we want to Create a set of all squares of the numbers in the list, but only if the number is odd.\n",
        "nums = [1, 2, 3, 4, 5, 3, 1]\n",
        "\n",
        "odd_squares = {x ** 2 for x in nums if x % 2 != 0}\n",
        "\n",
        "print(odd_squares)\n",
        "\n",
        "\n"
      ],
      "execution_count": null,
      "outputs": [
        {
          "output_type": "stream",
          "name": "stdout",
          "text": [
            "{1, 9, 25}\n"
          ]
        }
      ]
    },
    {
      "cell_type": "markdown",
      "metadata": {
        "id": "LSwiLjwF_qvE"
      },
      "source": [
        "###Tuples\n",
        "\n",
        "A tuple is an (**immutable**) ordered list of values. A tuple is in many ways similar to a list; one of the most important differences is that tuples can be used as keys in dictionaries and as elements of sets, while lists cannot. Here is a trivial example:"
      ]
    },
    {
      "cell_type": "code",
      "metadata": {
        "id": "SP2E-f2k_0_f",
        "colab": {
          "base_uri": "https://localhost:8080/"
        },
        "outputId": "be6ae97f-315b-4296-e63b-2af688e61de8"
      },
      "source": [
        "# we can not update items to a tuple once it has been created.\n",
        "#tuples can not be updated or extended.\n",
        "# we can not remove items from a tuple once it is created.\n",
        "\n",
        "# tup = (1 , 2 , 3 ,4 ,5 ,6)\n",
        "# we can access tuples using square barckets\n",
        "\n",
        "# print(\"value from tuple 2 is :\" , tup[1])\n",
        "# print('value from tuple 3 is :' , tup[2])\n",
        "\n",
        "# we can traverse through the each item in the tuple\n",
        "tup = (1 , 2 , 3 ,4 ,5 ,6)\n",
        "print(tup[4:])\n",
        "print(tup[::-1])\n",
        "print(tup[2:4])\n",
        "#python tuple index\n",
        "# for x in tup :\n",
        "#   print(x , end = \" \")\n"
      ],
      "execution_count": null,
      "outputs": [
        {
          "output_type": "stream",
          "name": "stdout",
          "text": [
            "(3, 4)\n"
          ]
        }
      ]
    },
    {
      "cell_type": "markdown",
      "metadata": {
        "id": "5LaXPOYH_4U8"
      },
      "source": [
        "\n",
        "\n",
        "##Functions\n",
        "\n",
        "Python functions are defined using the `def` keyword. For example:"
      ]
    },
    {
      "cell_type": "code",
      "metadata": {
        "id": "_ARQmuBZANYE",
        "colab": {
          "base_uri": "https://localhost:8080/"
        },
        "outputId": "c310de4b-ea40-4d0e-e630-1e36983232fa"
      },
      "source": [
        "#a simple add function\n",
        "# def sum(num1,num2) :\n",
        "#   return num1 + num2\n",
        "\n",
        "# result = sum(1 , 2)\n",
        "# print(result)\n",
        "\n",
        "#a simple greet function\n",
        "\n",
        "# def greet(name) :\n",
        "#   print(f'hello {name}')\n",
        "\n",
        "# hello = greet('kamran')\n",
        "# print(hello)\n",
        "\n"
      ],
      "execution_count": null,
      "outputs": [
        {
          "output_type": "stream",
          "name": "stdout",
          "text": [
            "hello kamran\n",
            "None\n"
          ]
        }
      ]
    },
    {
      "cell_type": "markdown",
      "source": [
        "these are some function practices"
      ],
      "metadata": {
        "id": "wxPxxPwPNZut"
      }
    },
    {
      "cell_type": "markdown",
      "metadata": {
        "id": "YSYs106KAP2K"
      },
      "source": [
        "We will often define functions to take optional keyword arguments, like this:"
      ]
    },
    {
      "cell_type": "code",
      "source": [
        "# a function to return the largest of three numbers using max() method.\n",
        "# def find_max(a,b,c) :\n",
        "#   max_values = max(a , b , c)\n",
        "#   return max_values\n",
        "\n",
        "# result = find_max(1 , 4 , 3)\n",
        "# print(result)\n",
        "\n",
        "#another way to do it using only logic\n",
        "# def find_max(a, b, c):\n",
        "#     if a >= b and a >= c:\n",
        "#         return a\n",
        "#     elif b >= a and b >= c:\n",
        "#         return b\n",
        "#     else:\n",
        "#         return c\n",
        "\n",
        "# result = find_max(1 , 6 ,3)\n",
        "# print(result)"
      ],
      "metadata": {
        "colab": {
          "base_uri": "https://localhost:8080/"
        },
        "id": "eKw4sdqHNf4V",
        "outputId": "2208c620-e6dc-40b4-a824-73eb698daa04"
      },
      "execution_count": null,
      "outputs": [
        {
          "output_type": "stream",
          "name": "stdout",
          "text": [
            "6\n"
          ]
        }
      ]
    },
    {
      "cell_type": "code",
      "metadata": {
        "id": "QMcHx8tRAWs2",
        "colab": {
          "base_uri": "https://localhost:8080/"
        },
        "outputId": "e99f81f6-0e2c-41ac-956a-4636cbd8bbca"
      },
      "source": [
        "def hello(name, loud=False):\n",
        "    if loud:\n",
        "        print('HELLO, %s!' % name.upper())\n",
        "    else:\n",
        "        print('Hello, %s' % name)\n",
        "\n",
        "hello('Bob') # Prints \"Hello, Bob\"\n",
        "hello('Fred', loud=True)  # Prints \"HELLO, FRED!\""
      ],
      "execution_count": null,
      "outputs": [
        {
          "output_type": "stream",
          "name": "stdout",
          "text": [
            "Hello, Bob\n",
            "HELLO, FRED!\n"
          ]
        }
      ]
    },
    {
      "cell_type": "code",
      "metadata": {
        "id": "br8jYDJM5rWd",
        "colab": {
          "base_uri": "https://localhost:8080/"
        },
        "outputId": "9f2744ba-e321-474a-aa85-8444c0ca19c3"
      },
      "source": [
        "# a function to check odd or even number\n",
        "# def check_even_odd(num) :\n",
        "#   NumCheck = num % 2\n",
        "#   if(NumCheck != True) :\n",
        "#     print(f'{num} is even')\n",
        "#   else :\n",
        "#     print(f'{num} is odd')\n",
        "\n",
        "# result = check_even_odd(3)\n",
        "\n",
        "# print(result)\n",
        "\n",
        "# easier way to do it\n",
        "\n",
        "def check_eveb_odd(num) :\n",
        "  if num % 2 == 0 :\n",
        "    print(f'{num} is even')\n",
        "  else :\n",
        "    print(f'{num} is odd')"
      ],
      "execution_count": null,
      "outputs": [
        {
          "output_type": "stream",
          "name": "stdout",
          "text": [
            "3 is odd\n",
            "None\n"
          ]
        }
      ]
    },
    {
      "cell_type": "markdown",
      "metadata": {
        "id": "5oeapFkUAbfp"
      },
      "source": [
        "\n",
        "1.   List item\n",
        "2.   List item\n",
        "\n",
        "\n",
        "\n",
        "##Classes\n",
        "\n",
        "The syntax for defining classes in Python is straightforward:"
      ]
    },
    {
      "cell_type": "code",
      "metadata": {
        "id": "rHxCQsEKAzYk"
      },
      "source": [
        "class Greeter(object):\n",
        "\n",
        "    # Constructor\n",
        "    def __init__(self, name):\n",
        "        self.name = name  # Create an instance variable\n",
        "\n",
        "    # Instance method\n",
        "    def greet(self, loud=False):\n",
        "        if loud:\n",
        "            print('HELLO, %s!' % self.name.upper())\n",
        "        else:\n",
        "            print('Hello, %s' % self.name)\n",
        "\n",
        "g = Greeter('Fred')  # Construct an instance of the Greeter class\n",
        "g.greet()            # Call an instance method; prints \"Hello, Fred\"\n",
        "g.greet(loud=True)   # Call an instance method; prints \"HELLO, FRED!\""
      ],
      "execution_count": null,
      "outputs": []
    }
  ]
}