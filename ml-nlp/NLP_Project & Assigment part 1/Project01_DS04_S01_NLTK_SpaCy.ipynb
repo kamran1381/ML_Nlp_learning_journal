{
  "cells": [
    {
      "cell_type": "markdown",
      "metadata": {
        "id": "1y3mR1nVT1zP"
      },
      "source": [
        "# 📜 Project: Job Description Analyzer – Extracting Required Skills from Job Postings\n"
      ]
    },
    {
      "cell_type": "markdown",
      "metadata": {
        "id": "JSI2d6TlT67t"
      },
      "source": [
        "## 📌 Objective\n",
        "Use spaCy’s Named Entity Recognition (NER) and NLTK preprocessing to extract and categorize required skills from job descriptions. The goal is to identify trends in job requirements and analyze the most in-demand skills across industries."
      ]
    },
    {
      "cell_type": "markdown",
      "metadata": {
        "id": "bEMWB0ErT-VI"
      },
      "source": [
        "## 🛠️ Project Steps & Instructions\n"
      ]
    },
    {
      "cell_type": "code",
      "execution_count": null,
      "metadata": {
        "colab": {
          "base_uri": "https://localhost:8080/"
        },
        "id": "i3ydN6dCU0R4",
        "outputId": "c1b90f23-be01-4798-f05b-864143a25c85"
      },
      "outputs": [
        {
          "output_type": "stream",
          "name": "stdout",
          "text": [
            "--2025-06-23 13:12:22--  https://raw.githubusercontent.com/binoydutt/Resume-Job-Description-Matching/refs/heads/master/data.csv\n",
            "Resolving raw.githubusercontent.com (raw.githubusercontent.com)... 185.199.108.133, 185.199.109.133, 185.199.110.133, ...\n",
            "Connecting to raw.githubusercontent.com (raw.githubusercontent.com)|185.199.108.133|:443... connected.\n",
            "HTTP request sent, awaiting response... 200 OK\n",
            "Length: 646072 (631K) [text/plain]\n",
            "Saving to: ‘data.csv’\n",
            "\n",
            "data.csv            100%[===================>] 630.93K  --.-KB/s    in 0.03s   \n",
            "\n",
            "2025-06-23 13:12:22 (18.6 MB/s) - ‘data.csv’ saved [646072/646072]\n",
            "\n"
          ]
        }
      ],
      "source": [
        "#📥 Download the Dataset\n",
        "!wget https://raw.githubusercontent.com/binoydutt/Resume-Job-Description-Matching/refs/heads/master/data.csv"
      ]
    },
    {
      "cell_type": "markdown",
      "metadata": {
        "id": "OSp39kGdUDZp"
      },
      "source": [
        "### Step 1: Load the Dataset\n",
        "#### 📌 Dataset: A provided CSV file containing job descriptions from different industries (IT, Healthcare, Finance, Marketing, etc.).\n",
        "\n",
        "1. Download the dataset (link below).\n",
        "2. Load it into Python using Pandas.\n",
        "3. View the first few rows to understand its structure."
      ]
    },
    {
      "cell_type": "code",
      "execution_count": null,
      "metadata": {
        "colab": {
          "base_uri": "https://localhost:8080/",
          "height": 521
        },
        "id": "Ujju9awITxuH",
        "outputId": "4f28a4cf-1a69-4d0d-d6f4-394fbca0d363"
      },
      "outputs": [
        {
          "output_type": "execute_result",
          "data": {
            "text/plain": [
              "   Unnamed: 0                          company  \\\n",
              "0           1          Visual BI Solutions Inc   \n",
              "1           2                       Jobvertise   \n",
              "2           3           Santander Consumer USA   \n",
              "3           4   Federal Reserve Bank of Dallas   \n",
              "4           5                           Aviall   \n",
              "\n",
              "                                            position  \\\n",
              "0  Graduate Intern (Summer 2017) - SAP BI / Big D...   \n",
              "1                          Digital Marketing Manager   \n",
              "2    Manager, Pricing Management Information Systems   \n",
              "3               Treasury Services Analyst Internship   \n",
              "4                              Intern, Sales Analyst   \n",
              "\n",
              "                                                 url     location  \\\n",
              "0  https://www.glassdoor.com/partner/jobListing.h...    Plano, TX   \n",
              "1  https://www.glassdoor.com/partner/jobListing.h...   Dallas, TX   \n",
              "2  https://www.glassdoor.com/partner/jobListing.h...   Dallas, TX   \n",
              "3  https://www.glassdoor.com/partner/jobListing.h...   Dallas, TX   \n",
              "4  https://www.glassdoor.com/partner/jobListing.h...   Dallas, TX   \n",
              "\n",
              "       headquaters                employees founded  \\\n",
              "0        Plano, TX      51 to 200 employees    2010   \n",
              "1  Berlin, Germany        1 to 50 employees    2011   \n",
              "2       Dallas, TX  5001 to 10000 employees    1995   \n",
              "3       Dallas, TX   1001 to 5000 employees    1914   \n",
              "4       Dallas, TX   1001 to 5000 employees  Boeing   \n",
              "\n",
              "                         industry  \\\n",
              "0          Information Technology   \n",
              "1                         Unknown   \n",
              "2                         Finance   \n",
              "3                         Finance   \n",
              "4  Subsidiary or Business Segment   \n",
              "\n",
              "                                     Job Description  \n",
              "0   Location: Plano, TX or Oklahoma City, OK Dura...  \n",
              "1   The Digital Marketing Manager is the front li...  \n",
              "2   Summary of Responsibilities:The Manager Prici...  \n",
              "3   ORGANIZATIONAL SUMMARY:   As part of the nati...  \n",
              "4     Aviall is the world's largest provider of n...  "
            ],
            "text/html": [
              "\n",
              "  <div id=\"df-7717bcba-0f00-4f20-9a08-8f7316901152\" class=\"colab-df-container\">\n",
              "    <div>\n",
              "<style scoped>\n",
              "    .dataframe tbody tr th:only-of-type {\n",
              "        vertical-align: middle;\n",
              "    }\n",
              "\n",
              "    .dataframe tbody tr th {\n",
              "        vertical-align: top;\n",
              "    }\n",
              "\n",
              "    .dataframe thead th {\n",
              "        text-align: right;\n",
              "    }\n",
              "</style>\n",
              "<table border=\"1\" class=\"dataframe\">\n",
              "  <thead>\n",
              "    <tr style=\"text-align: right;\">\n",
              "      <th></th>\n",
              "      <th>Unnamed: 0</th>\n",
              "      <th>company</th>\n",
              "      <th>position</th>\n",
              "      <th>url</th>\n",
              "      <th>location</th>\n",
              "      <th>headquaters</th>\n",
              "      <th>employees</th>\n",
              "      <th>founded</th>\n",
              "      <th>industry</th>\n",
              "      <th>Job Description</th>\n",
              "    </tr>\n",
              "  </thead>\n",
              "  <tbody>\n",
              "    <tr>\n",
              "      <th>0</th>\n",
              "      <td>1</td>\n",
              "      <td>Visual BI Solutions Inc</td>\n",
              "      <td>Graduate Intern (Summer 2017) - SAP BI / Big D...</td>\n",
              "      <td>https://www.glassdoor.com/partner/jobListing.h...</td>\n",
              "      <td>Plano, TX</td>\n",
              "      <td>Plano, TX</td>\n",
              "      <td>51 to 200 employees</td>\n",
              "      <td>2010</td>\n",
              "      <td>Information Technology</td>\n",
              "      <td>Location: Plano, TX or Oklahoma City, OK Dura...</td>\n",
              "    </tr>\n",
              "    <tr>\n",
              "      <th>1</th>\n",
              "      <td>2</td>\n",
              "      <td>Jobvertise</td>\n",
              "      <td>Digital Marketing Manager</td>\n",
              "      <td>https://www.glassdoor.com/partner/jobListing.h...</td>\n",
              "      <td>Dallas, TX</td>\n",
              "      <td>Berlin, Germany</td>\n",
              "      <td>1 to 50 employees</td>\n",
              "      <td>2011</td>\n",
              "      <td>Unknown</td>\n",
              "      <td>The Digital Marketing Manager is the front li...</td>\n",
              "    </tr>\n",
              "    <tr>\n",
              "      <th>2</th>\n",
              "      <td>3</td>\n",
              "      <td>Santander Consumer USA</td>\n",
              "      <td>Manager, Pricing Management Information Systems</td>\n",
              "      <td>https://www.glassdoor.com/partner/jobListing.h...</td>\n",
              "      <td>Dallas, TX</td>\n",
              "      <td>Dallas, TX</td>\n",
              "      <td>5001 to 10000 employees</td>\n",
              "      <td>1995</td>\n",
              "      <td>Finance</td>\n",
              "      <td>Summary of Responsibilities:The Manager Prici...</td>\n",
              "    </tr>\n",
              "    <tr>\n",
              "      <th>3</th>\n",
              "      <td>4</td>\n",
              "      <td>Federal Reserve Bank of Dallas</td>\n",
              "      <td>Treasury Services Analyst Internship</td>\n",
              "      <td>https://www.glassdoor.com/partner/jobListing.h...</td>\n",
              "      <td>Dallas, TX</td>\n",
              "      <td>Dallas, TX</td>\n",
              "      <td>1001 to 5000 employees</td>\n",
              "      <td>1914</td>\n",
              "      <td>Finance</td>\n",
              "      <td>ORGANIZATIONAL SUMMARY:   As part of the nati...</td>\n",
              "    </tr>\n",
              "    <tr>\n",
              "      <th>4</th>\n",
              "      <td>5</td>\n",
              "      <td>Aviall</td>\n",
              "      <td>Intern, Sales Analyst</td>\n",
              "      <td>https://www.glassdoor.com/partner/jobListing.h...</td>\n",
              "      <td>Dallas, TX</td>\n",
              "      <td>Dallas, TX</td>\n",
              "      <td>1001 to 5000 employees</td>\n",
              "      <td>Boeing</td>\n",
              "      <td>Subsidiary or Business Segment</td>\n",
              "      <td>Aviall is the world's largest provider of n...</td>\n",
              "    </tr>\n",
              "  </tbody>\n",
              "</table>\n",
              "</div>\n",
              "    <div class=\"colab-df-buttons\">\n",
              "\n",
              "  <div class=\"colab-df-container\">\n",
              "    <button class=\"colab-df-convert\" onclick=\"convertToInteractive('df-7717bcba-0f00-4f20-9a08-8f7316901152')\"\n",
              "            title=\"Convert this dataframe to an interactive table.\"\n",
              "            style=\"display:none;\">\n",
              "\n",
              "  <svg xmlns=\"http://www.w3.org/2000/svg\" height=\"24px\" viewBox=\"0 -960 960 960\">\n",
              "    <path d=\"M120-120v-720h720v720H120Zm60-500h600v-160H180v160Zm220 220h160v-160H400v160Zm0 220h160v-160H400v160ZM180-400h160v-160H180v160Zm440 0h160v-160H620v160ZM180-180h160v-160H180v160Zm440 0h160v-160H620v160Z\"/>\n",
              "  </svg>\n",
              "    </button>\n",
              "\n",
              "  <style>\n",
              "    .colab-df-container {\n",
              "      display:flex;\n",
              "      gap: 12px;\n",
              "    }\n",
              "\n",
              "    .colab-df-convert {\n",
              "      background-color: #E8F0FE;\n",
              "      border: none;\n",
              "      border-radius: 50%;\n",
              "      cursor: pointer;\n",
              "      display: none;\n",
              "      fill: #1967D2;\n",
              "      height: 32px;\n",
              "      padding: 0 0 0 0;\n",
              "      width: 32px;\n",
              "    }\n",
              "\n",
              "    .colab-df-convert:hover {\n",
              "      background-color: #E2EBFA;\n",
              "      box-shadow: 0px 1px 2px rgba(60, 64, 67, 0.3), 0px 1px 3px 1px rgba(60, 64, 67, 0.15);\n",
              "      fill: #174EA6;\n",
              "    }\n",
              "\n",
              "    .colab-df-buttons div {\n",
              "      margin-bottom: 4px;\n",
              "    }\n",
              "\n",
              "    [theme=dark] .colab-df-convert {\n",
              "      background-color: #3B4455;\n",
              "      fill: #D2E3FC;\n",
              "    }\n",
              "\n",
              "    [theme=dark] .colab-df-convert:hover {\n",
              "      background-color: #434B5C;\n",
              "      box-shadow: 0px 1px 3px 1px rgba(0, 0, 0, 0.15);\n",
              "      filter: drop-shadow(0px 1px 2px rgba(0, 0, 0, 0.3));\n",
              "      fill: #FFFFFF;\n",
              "    }\n",
              "  </style>\n",
              "\n",
              "    <script>\n",
              "      const buttonEl =\n",
              "        document.querySelector('#df-7717bcba-0f00-4f20-9a08-8f7316901152 button.colab-df-convert');\n",
              "      buttonEl.style.display =\n",
              "        google.colab.kernel.accessAllowed ? 'block' : 'none';\n",
              "\n",
              "      async function convertToInteractive(key) {\n",
              "        const element = document.querySelector('#df-7717bcba-0f00-4f20-9a08-8f7316901152');\n",
              "        const dataTable =\n",
              "          await google.colab.kernel.invokeFunction('convertToInteractive',\n",
              "                                                    [key], {});\n",
              "        if (!dataTable) return;\n",
              "\n",
              "        const docLinkHtml = 'Like what you see? Visit the ' +\n",
              "          '<a target=\"_blank\" href=https://colab.research.google.com/notebooks/data_table.ipynb>data table notebook</a>'\n",
              "          + ' to learn more about interactive tables.';\n",
              "        element.innerHTML = '';\n",
              "        dataTable['output_type'] = 'display_data';\n",
              "        await google.colab.output.renderOutput(dataTable, element);\n",
              "        const docLink = document.createElement('div');\n",
              "        docLink.innerHTML = docLinkHtml;\n",
              "        element.appendChild(docLink);\n",
              "      }\n",
              "    </script>\n",
              "  </div>\n",
              "\n",
              "\n",
              "    <div id=\"df-ef35bf18-85d8-4040-8ca9-20d46104a0f3\">\n",
              "      <button class=\"colab-df-quickchart\" onclick=\"quickchart('df-ef35bf18-85d8-4040-8ca9-20d46104a0f3')\"\n",
              "                title=\"Suggest charts\"\n",
              "                style=\"display:none;\">\n",
              "\n",
              "<svg xmlns=\"http://www.w3.org/2000/svg\" height=\"24px\"viewBox=\"0 0 24 24\"\n",
              "     width=\"24px\">\n",
              "    <g>\n",
              "        <path d=\"M19 3H5c-1.1 0-2 .9-2 2v14c0 1.1.9 2 2 2h14c1.1 0 2-.9 2-2V5c0-1.1-.9-2-2-2zM9 17H7v-7h2v7zm4 0h-2V7h2v10zm4 0h-2v-4h2v4z\"/>\n",
              "    </g>\n",
              "</svg>\n",
              "      </button>\n",
              "\n",
              "<style>\n",
              "  .colab-df-quickchart {\n",
              "      --bg-color: #E8F0FE;\n",
              "      --fill-color: #1967D2;\n",
              "      --hover-bg-color: #E2EBFA;\n",
              "      --hover-fill-color: #174EA6;\n",
              "      --disabled-fill-color: #AAA;\n",
              "      --disabled-bg-color: #DDD;\n",
              "  }\n",
              "\n",
              "  [theme=dark] .colab-df-quickchart {\n",
              "      --bg-color: #3B4455;\n",
              "      --fill-color: #D2E3FC;\n",
              "      --hover-bg-color: #434B5C;\n",
              "      --hover-fill-color: #FFFFFF;\n",
              "      --disabled-bg-color: #3B4455;\n",
              "      --disabled-fill-color: #666;\n",
              "  }\n",
              "\n",
              "  .colab-df-quickchart {\n",
              "    background-color: var(--bg-color);\n",
              "    border: none;\n",
              "    border-radius: 50%;\n",
              "    cursor: pointer;\n",
              "    display: none;\n",
              "    fill: var(--fill-color);\n",
              "    height: 32px;\n",
              "    padding: 0;\n",
              "    width: 32px;\n",
              "  }\n",
              "\n",
              "  .colab-df-quickchart:hover {\n",
              "    background-color: var(--hover-bg-color);\n",
              "    box-shadow: 0 1px 2px rgba(60, 64, 67, 0.3), 0 1px 3px 1px rgba(60, 64, 67, 0.15);\n",
              "    fill: var(--button-hover-fill-color);\n",
              "  }\n",
              "\n",
              "  .colab-df-quickchart-complete:disabled,\n",
              "  .colab-df-quickchart-complete:disabled:hover {\n",
              "    background-color: var(--disabled-bg-color);\n",
              "    fill: var(--disabled-fill-color);\n",
              "    box-shadow: none;\n",
              "  }\n",
              "\n",
              "  .colab-df-spinner {\n",
              "    border: 2px solid var(--fill-color);\n",
              "    border-color: transparent;\n",
              "    border-bottom-color: var(--fill-color);\n",
              "    animation:\n",
              "      spin 1s steps(1) infinite;\n",
              "  }\n",
              "\n",
              "  @keyframes spin {\n",
              "    0% {\n",
              "      border-color: transparent;\n",
              "      border-bottom-color: var(--fill-color);\n",
              "      border-left-color: var(--fill-color);\n",
              "    }\n",
              "    20% {\n",
              "      border-color: transparent;\n",
              "      border-left-color: var(--fill-color);\n",
              "      border-top-color: var(--fill-color);\n",
              "    }\n",
              "    30% {\n",
              "      border-color: transparent;\n",
              "      border-left-color: var(--fill-color);\n",
              "      border-top-color: var(--fill-color);\n",
              "      border-right-color: var(--fill-color);\n",
              "    }\n",
              "    40% {\n",
              "      border-color: transparent;\n",
              "      border-right-color: var(--fill-color);\n",
              "      border-top-color: var(--fill-color);\n",
              "    }\n",
              "    60% {\n",
              "      border-color: transparent;\n",
              "      border-right-color: var(--fill-color);\n",
              "    }\n",
              "    80% {\n",
              "      border-color: transparent;\n",
              "      border-right-color: var(--fill-color);\n",
              "      border-bottom-color: var(--fill-color);\n",
              "    }\n",
              "    90% {\n",
              "      border-color: transparent;\n",
              "      border-bottom-color: var(--fill-color);\n",
              "    }\n",
              "  }\n",
              "</style>\n",
              "\n",
              "      <script>\n",
              "        async function quickchart(key) {\n",
              "          const quickchartButtonEl =\n",
              "            document.querySelector('#' + key + ' button');\n",
              "          quickchartButtonEl.disabled = true;  // To prevent multiple clicks.\n",
              "          quickchartButtonEl.classList.add('colab-df-spinner');\n",
              "          try {\n",
              "            const charts = await google.colab.kernel.invokeFunction(\n",
              "                'suggestCharts', [key], {});\n",
              "          } catch (error) {\n",
              "            console.error('Error during call to suggestCharts:', error);\n",
              "          }\n",
              "          quickchartButtonEl.classList.remove('colab-df-spinner');\n",
              "          quickchartButtonEl.classList.add('colab-df-quickchart-complete');\n",
              "        }\n",
              "        (() => {\n",
              "          let quickchartButtonEl =\n",
              "            document.querySelector('#df-ef35bf18-85d8-4040-8ca9-20d46104a0f3 button');\n",
              "          quickchartButtonEl.style.display =\n",
              "            google.colab.kernel.accessAllowed ? 'block' : 'none';\n",
              "        })();\n",
              "      </script>\n",
              "    </div>\n",
              "\n",
              "    </div>\n",
              "  </div>\n"
            ],
            "application/vnd.google.colaboratory.intrinsic+json": {
              "type": "dataframe",
              "variable_name": "df",
              "summary": "{\n  \"name\": \"df\",\n  \"rows\": 157,\n  \"fields\": [\n    {\n      \"column\": \"Unnamed: 0\",\n      \"properties\": {\n        \"dtype\": \"number\",\n        \"std\": 45,\n        \"min\": 1,\n        \"max\": 157,\n        \"num_unique_values\": 157,\n        \"samples\": [\n          127,\n          46,\n          134\n        ],\n        \"semantic_type\": \"\",\n        \"description\": \"\"\n      }\n    },\n    {\n      \"column\": \"company\",\n      \"properties\": {\n        \"dtype\": \"category\",\n        \"num_unique_values\": 78,\n        \"samples\": [\n          \" Santander Bank\",\n          \" Visual BI Solutions Inc\",\n          \" CoreLogic\"\n        ],\n        \"semantic_type\": \"\",\n        \"description\": \"\"\n      }\n    },\n    {\n      \"column\": \"position\",\n      \"properties\": {\n        \"dtype\": \"string\",\n        \"num_unique_values\": 110,\n        \"samples\": [\n          \"Big Data Intern (multiple openings)\",\n          \"Data Scientist Intern\",\n          \"Intern, Sales Analyst\"\n        ],\n        \"semantic_type\": \"\",\n        \"description\": \"\"\n      }\n    },\n    {\n      \"column\": \"url\",\n      \"properties\": {\n        \"dtype\": \"string\",\n        \"num_unique_values\": 126,\n        \"samples\": [\n          \"https://www.glassdoor.com/partner/jobListing.htm?pos=312&ao=134294&s=58&guid=0000015b94773c7788835cabe1b00942&src=GD_JOB_AD&t=SR&extid=1&exst=OL&ist=&ast=OL&vt=w&slr=true&rtp=0&cb=1492844494334&jobListingId=2241174410\",\n          \"https://www.glassdoor.com/partner/jobListing.htm?pos=120&ao=144580&s=58&guid=0000015b9476f35987a265b0a3254103&src=GD_JOB_AD&t=SR&extid=1&exst=OL&ist=&ast=OL&vt=w&slr=true&rtp=0&cb=1492844475572&jobListingId=2211149326\",\n          \"https://www.glassdoor.com/partner/jobListing.htm?pos=424&ao=189300&s=58&guid=0000015b947752389efb04738952bd5a&src=GD_JOB_AD&t=SR&extid=1&exst=OL&ist=&ast=OL&vt=w&slr=true&rtp=0&cb=1492844499891&jobListingId=2302185647\"\n        ],\n        \"semantic_type\": \"\",\n        \"description\": \"\"\n      }\n    },\n    {\n      \"column\": \"location\",\n      \"properties\": {\n        \"dtype\": \"category\",\n        \"num_unique_values\": 13,\n        \"samples\": [\n          \" Fort Worth, TX\",\n          \" Arlington, TX\",\n          \" Plano, TX\"\n        ],\n        \"semantic_type\": \"\",\n        \"description\": \"\"\n      }\n    },\n    {\n      \"column\": \"headquaters\",\n      \"properties\": {\n        \"dtype\": \"category\",\n        \"num_unique_values\": 44,\n        \"samples\": [\n          \"Cambridge, MA\",\n          \"Columbus, IN\",\n          \"Brooklyn, 061\"\n        ],\n        \"semantic_type\": \"\",\n        \"description\": \"\"\n      }\n    },\n    {\n      \"column\": \"employees\",\n      \"properties\": {\n        \"dtype\": \"category\",\n        \"num_unique_values\": 8,\n        \"samples\": [\n          \"1 to 50 employees\",\n          \"501 to 1000 employees\",\n          \"51 to 200 employees\"\n        ],\n        \"semantic_type\": \"\",\n        \"description\": \"\"\n      }\n    },\n    {\n      \"column\": \"founded\",\n      \"properties\": {\n        \"dtype\": \"category\",\n        \"num_unique_values\": 48,\n        \"samples\": [\n          \"1888\",\n          \"1929\",\n          \"1949\"\n        ],\n        \"semantic_type\": \"\",\n        \"description\": \"\"\n      }\n    },\n    {\n      \"column\": \"industry\",\n      \"properties\": {\n        \"dtype\": \"category\",\n        \"num_unique_values\": 22,\n        \"samples\": [\n          \"Information Technology\",\n          \"Insurance\",\n          \"Non-Profit\"\n        ],\n        \"semantic_type\": \"\",\n        \"description\": \"\"\n      }\n    },\n    {\n      \"column\": \"Job Description\",\n      \"properties\": {\n        \"dtype\": \"string\",\n        \"num_unique_values\": 123,\n        \"samples\": [\n          \" Intern, Research & Development Tracking Code 7366-415 Job Description Are you ready to join an organization where you can make an extraordinary impact every day? Imagine all Americans enjoying ideal cardiovascular health free of heart disease and stroke. At the American Heart Association and American Stroke Association, we get to work toward that goal every day. Is it easy? No. Is it worthwhile? Absolutely. This is satisfying and challenging work that makes a real difference in people's lives. We are where you can achieve professional growth with personal fulfillment. We are where you can connect people to making a lifesaving impact. We are where you can partner with individuals, schools, lawmakers, healthcare providers and others to ensure everyone has access to healthier lifestyle choices and proper healthcare. The American Heart Association is where you can make an extraordinary impact. The American Heart Association (AHA) has a great opportunity for a Part-time Internship, with Research and Development team at our National Center office located in Dallas, TX . This internship will last approximately 6 month. This internship will focus on supporting the Quality and Health IT Research and Development group assisting with core duties around research project management, publications and data analytics. Want to help get your resume to the top? We are looking for your expertise in the following areas. Required Experience  Currently pursuing a BA/BS or higher in Business, healthcare administration/management, or related field. Must be knowledgeable in Word, Excel and PowerPoint with the ability to produce charts and graphs. Self-starter with good organizational skills and attention to detail. Ability to manage and prioritize multiple projects Excellent verbal and written communication skills  Want to increase your chances of an interview? Include a cover letter! Submit a cover letter explaining why you are pursuing an education in public health or a related discipline and why the AHA internship appeals to you. Attracting talented, committed employees means offering a competitive benefits package, ongoing professional development and training, and a diverse and inclusive environment in which to work and grow. And we do. So, are you ready to work for the largest voluntary health organization dedicated to fighting heart disease, stroke and other cardiovascular diseases? Click on New Resume to submit your online application. Only those candidates deemed most qualified by the hiring manager will be contacted to interview. Click here to see other opportunities with the American Heart Association. Follow us on Twitter to see what it is like to work for the American Heart Association and why so many people enjoy \\\\#TheAHALife at https://twitter.com/theahalife Job Location Dallas, Texas, United States Position Type Temporary Job Category: Health Quality EOE Minorities/Females/Protected Veterans/Disabled  \",\n          \" Real-world Experience. Life-long Connections. Intern With Us.Team up with seasoned healthcare technology professionals to expand your real-world knowledge base. Spend 12 weeks that will make a lifetime of difference, while interacting with other interns.The Data Scientist Intern will work in the IT COB Apps team. We are looking for an individual pursing a degree in Information Technology, Computer Engineering, Computer Science, Engineering Technology, MIS, Management, or a related major. Below is a summary of duties that an intern can expect to perform while working with their mentor this summer at HMS.This internship would allow you understand healthcare cost containment strategies by providing application development and support for HMS products/programs, which cater the needs of State, Federal and Commerical agencies. Would primarily focus on understanding the requirement, developing, testing and deploying application suite to support new or existing HMS products. This role would give the platform to gain experience on Application development using ETL, MDM, SaaS methologies with technology focus on Pattern Recognition, Identity Matching, Machine Learning and Big Data. Specific duties include:Work with IT COB Apps team to develop state of the art of HMS matching engineUse the latest technologies, analytical and data science methods (regression, clustering, classification, text analysis) to real world datasets to solve ongoing business problemsCollaborate with cross functional teams and publish results to key business partners Languages: Scala, Python, Java, SQL. (Combinations of these skills are very useful)A basic understanding of statistical modeling (linear regression, logistic regression, clustering)An ability to think abstractly and work cross functionallyStrong communication and presentation skillsA desire to evolve excellent problem solving skills; meticulous and methodical\",\n          \" Job Details Intern - Data Engineer US - TEXAS - DALLAS, US - TEXAS, USA  Apply for this job  Reference no. 231410 Country USA Region US - TEXAS City US - TEXAS - DALLAS Position Type Student Job Area IT Support Job Type Part Time Company Atos  Company Information  Atos is a leader in digital services with annual revenue of \\u20ac 12 billion and 100,000 employees in 72 countries. Serving a global client base, Atos offers Consulting & Systems Integration, Managed Services & BPO, Cloud, Big Data & Cyber-security solutions. With deep technology expertise and industry knowledge, Atos works with clients across many business sectors: Defense, Financial Services, Health, Manufacturing, Media, Utilities, Public Sector, Retail, Telecommunications, and Transportation.Atos is focused on business technology that powers progress and helps organizations to create their firm of the future. In addition, Atos is the Worldwide Information Technology Partner for the Olympic & Paralympic Games and operates under the brands Atos, Bull, Canopy, Unify and Worldline. Atos offers a broad professional perspective and the opportunity to build a rewarding career across either the technical or business paths. With our worldwide presence and our broad range of professional services, Atos provides training programs across all our competencies and markets worldwide for employees in all stages of their career. In addition, we offer programs that are focused on engaging and developing people who are at the beginning of their career through internships and graduate opportunities.    For more information, please see the Atos corporate web site: www.atos.net.   Atos is an EEO employer, providing employment opportunity regardless of race, color, religion, sex, age, national origin veteran status, disability or other factors protected by law.  Job Description   Data Engineer Intern \\u2013 Automatic Report Creation This project requires ingesting and integrating structured / unstructured data (from various sources, e.g., pdf, word, excel files, pictures, etc.) in a data lake / cloud environment. Queries will need to be written to extract data that will be used to (1) to display selected data features on a dashboard and (2) create reports in pre-specified format. The process should be automated so that users can generate defect free reports in various pre-specified formats.  Job Requirements  Degree in Engineering or Computer ScienceExperience in Big Data, Data Management, Metadata Management, Data Integration Technologies \\u2013 Hadoop, ElasticSearch, Logstash, etc; Experience in Visual Analytics Tools such as Tibco, Jaspersoft, QlikView, etc.Knowledge of Text Mining, Indexing, Query languages, NoSQL. Java, C#, etc.     Apply for this job Back to search results \"\n        ],\n        \"semantic_type\": \"\",\n        \"description\": \"\"\n      }\n    }\n  ]\n}"
            }
          },
          "metadata": {},
          "execution_count": 2
        }
      ],
      "source": [
        "import pandas as pd\n",
        "\n",
        "\n",
        "df = pd.read_csv('data.csv')\n",
        "\n",
        "df.head()"
      ]
    },
    {
      "cell_type": "markdown",
      "metadata": {
        "id": "jP9XyZzeULkK"
      },
      "source": [
        "### Step 2: Preprocessing the Job Descriptions\n",
        "#### 📌 Goal: Clean the text by removing stopwords, punctuation, and unnecessary characters.\n",
        "\n",
        "1. Use NLTK to tokenize the descriptions.\n",
        "2. Remove stopwords and special characters.\n",
        "3. Convert text to lowercase for consistency."
      ]
    },
    {
      "cell_type": "code",
      "execution_count": null,
      "metadata": {
        "id": "IgUGbR5nUKJ4",
        "colab": {
          "base_uri": "https://localhost:8080/"
        },
        "outputId": "cb3a630e-d939-4139-a290-f12fedc3440b"
      },
      "outputs": [
        {
          "output_type": "stream",
          "name": "stderr",
          "text": [
            "[nltk_data] Downloading package punkt_tab to /root/nltk_data...\n",
            "[nltk_data]   Package punkt_tab is already up-to-date!\n",
            "[nltk_data] Downloading package stopwords to /root/nltk_data...\n",
            "[nltk_data]   Package stopwords is already up-to-date!\n"
          ]
        },
        {
          "output_type": "stream",
          "name": "stdout",
          "text": [
            "                                     Job Description  \\\n",
            "0   Location: Plano, TX or Oklahoma City, OK Dura...   \n",
            "1   The Digital Marketing Manager is the front li...   \n",
            "2   Summary of Responsibilities:The Manager Prici...   \n",
            "3   ORGANIZATIONAL SUMMARY:   As part of the nati...   \n",
            "4     Aviall is the world's largest provider of n...   \n",
            "\n",
            "                                 Cleaned_Description  \n",
            "0  location plano tx oklahoma city ok duration in...  \n",
            "1  digital marketing manager front line patient c...  \n",
            "2  summary responsibilities manager pricing mis r...  \n",
            "3  organizational summary part nation central ban...  \n",
            "4  aviall world largest provider new aviation par...  \n"
          ]
        }
      ],
      "source": [
        "import nltk\n",
        "import string\n",
        "import nltk\n",
        "from nltk.corpus import stopwords\n",
        "from nltk.tokenize import word_tokenize\n",
        "nltk.download('punkt_tab')\n",
        "nltk.download('stopwords')\n",
        "\n",
        "stop_words = set(stopwords.words('english'))\n",
        "punctuations = string.punctuation\n",
        "\n",
        "#so we want to actually create a function that doe the following : => tokenize Job descriptions , remove stopwords and special characters\n",
        "# and convert text to lowercase\n",
        "\n",
        "def preprocess_text(text):\n",
        "   #convert text to lowecase\n",
        "   tokens = word_tokenize(text.lower())\n",
        "   #remove any kinds of punctuation or special aphbet characters\n",
        "   tokens = [word for word in tokens if word.isalpha()]\n",
        "   #tokens\n",
        "   filteredtokens = [word for word in tokens if word not in stop_words]\n",
        "     # paying close attention here is key as there should be a seperation or distance among the quotes\n",
        "   return ' '.join(filteredtokens)\n",
        "\n",
        "df['Cleaned_Description'] = df['Job Description'].apply(preprocess_text)\n",
        "\n",
        "print(df[['Job Description', 'Cleaned_Description']].head())\n",
        "\n",
        "\n"
      ]
    },
    {
      "cell_type": "markdown",
      "metadata": {
        "id": "rttovi6vUVX0"
      },
      "source": [
        "### Step 3: Extract Skills Using Named Entity Recognition (NER)\n",
        "#### 📌 Goal: Use spaCy’s built-in NER to detect and extract skills from job descriptions.\n",
        "\n",
        "1. Load spaCy’s English model.\n",
        "2. Use NER to identify important keywords.\n",
        "3. Extract words related to technical skills, tools, and expertise."
      ]
    },
    {
      "cell_type": "code",
      "execution_count": null,
      "metadata": {
        "id": "d31wh2yDUT9Y",
        "colab": {
          "base_uri": "https://localhost:8080/"
        },
        "outputId": "f855931c-3411-4136-9a7c-da1273b3c823"
      },
      "outputs": [
        {
          "output_type": "stream",
          "name": "stdout",
          "text": [
            "                                     Job Description  \\\n",
            "0   Location: Plano, TX or Oklahoma City, OK Dura...   \n",
            "1   The Digital Marketing Manager is the front li...   \n",
            "2   Summary of Responsibilities:The Manager Prici...   \n",
            "3   ORGANIZATIONAL SUMMARY:   As part of the nati...   \n",
            "4     Aviall is the world's largest provider of n...   \n",
            "\n",
            "                                    Extracted_Skills  \n",
            "0                                  [gpa scores, sql]  \n",
            "1                               [digital, marketing]  \n",
            "2                                              [sql]  \n",
            "3  [marketing, dallas treasury services departmen...  \n",
            "4                                                 []  \n"
          ]
        }
      ],
      "source": [
        "import spacy\n",
        "from spacy.matcher import Matcher\n",
        "\n",
        "# Load the model\n",
        "nlp = spacy.load(\"en_core_web_sm\")\n",
        "\n",
        "# Create a Matcher object and attach it to the vocab\n",
        "matcher = Matcher(nlp.vocab)\n",
        "\n",
        "# Define skill patterns\n",
        "skill_patterns = [\n",
        "    [{\"LOWER\": \"analytics\"}],\n",
        "    [{\"LOWER\": \"marketing\"}],\n",
        "    [{\"LOWER\": \"bachelor\"}],\n",
        "    [{\"LOWER\": \"Access\"}],\n",
        "    [{\"LOWER\": \"Word\"}],\n",
        "    [{\"LOWER\": \"sql\"}],\n",
        "    [{\"LOWER\": \"javascript\"}],\n",
        "    [{\"LOWER\": \"GPA \"}],\n",
        "    [{\"LOWER\": \"data\"}, {\"LOWER\": \"analysis\"}],\n",
        "]\n",
        "matcher.add(\"SKILLS\", skill_patterns)\n",
        "\n",
        "# Function to extract skills\n",
        "def extract_combined_skills(text):\n",
        "    doc = nlp(text)\n",
        "    labeled_entities = [ent.text for ent in doc.ents if ent.label_ in [\"ORG\", \"LANGUAGE\"]]\n",
        "    matched_skills = [doc[start:end].text for _, start, end in matcher(doc)]\n",
        "    return list(set(labeled_entities + matched_skills))\n",
        "\n",
        "# Apply to DataFrame\n",
        "df['Extracted_Skills'] = df['Cleaned_Description'].apply(extract_combined_skills)\n",
        "print(df[['Job Description', 'Extracted_Skills']].head())\n",
        "\n"
      ]
    },
    {
      "cell_type": "markdown",
      "metadata": {
        "id": "TizfP0pyUanq"
      },
      "source": [
        "### Step 4: Identify the Most In-Demand Skills\n",
        "#### 📌 Goal: Count the most frequently mentioned skills in job descriptions.\n",
        "\n",
        "1. Create a word frequency distribution of extracted skills.\n",
        "2. Identify the top 10 most required skills."
      ]
    },
    {
      "cell_type": "code",
      "execution_count": null,
      "metadata": {
        "id": "9SLRxwryUm4g",
        "colab": {
          "base_uri": "https://localhost:8080/"
        },
        "outputId": "f4debf85-d51a-4fd9-a4a1-e1f123463cf4"
      },
      "outputs": [
        {
          "output_type": "stream",
          "name": "stdout",
          "text": [
            "marketing: 44 times\n",
            "microsoft: 34 times\n",
            "sql: 33 times\n",
            "microsoft office: 23 times\n",
            "data analysis: 15 times\n",
            "english: 10 times\n",
            "deloitte: 9 times\n",
            "javascript: 8 times\n",
            "texas usa: 7 times\n",
            "ibm: 7 times\n"
          ]
        }
      ],
      "source": [
        "from nltk.probability import FreqDist\n",
        "\n",
        "all_skills = [skill for skills in df['Extracted_Skills'] for skill in skills]\n",
        "\n",
        "freq_dist = FreqDist(all_skills)\n",
        "\n",
        "\n",
        "top_10 = freq_dist.most_common(10)\n",
        "for skill, freq in top_10:\n",
        "    print(f\"{skill}: {freq} times\")\n",
        "\n"
      ]
    },
    {
      "cell_type": "markdown",
      "metadata": {
        "id": "3v8W0pneUoku"
      },
      "source": [
        "### Step 5: Categorize Skills by Industry\n",
        "#### 📌 Goal: Compare the most in-demand skills across different industries.\n",
        "\n",
        "1. Group job descriptions by industry.\n",
        "2. Extract and analyze skills for each industry.\n",
        "3. Compare IT vs. Marketing vs. Healthcare, etc.."
      ]
    },
    {
      "cell_type": "code",
      "execution_count": null,
      "metadata": {
        "id": "HzZmaKoyUsSX",
        "colab": {
          "base_uri": "https://localhost:8080/"
        },
        "outputId": "c584c957-adea-474d-8550-05534d052693"
      },
      "outputs": [
        {
          "output_type": "stream",
          "name": "stdout",
          "text": [
            "\n",
            "Top skills in Information Technology:\n",
            "  microsoft: 7\n",
            "  sql: 6\n",
            "  texas usa: 6\n",
            "  marketing: 6\n",
            "  microsoft office: 2\n",
            "\n",
            "Top skills in Finance:\n",
            "  marketing: 10\n",
            "  sql: 7\n",
            "  dallas treasury services department regularly apply analytical problem: 3\n",
            "  federal reserve bank: 3\n",
            "  data analysis: 3\n",
            "\n",
            "Top skills in Subsidiary or Business Segment:\n",
            "  microsoft office: 6\n",
            "  marketing: 3\n",
            "  gpa education college coursework: 2\n",
            "  javascript: 1\n",
            "  sql: 1\n"
          ]
        }
      ],
      "source": [
        "from nltk.probability import FreqDist\n",
        "\n",
        "industry_skill_freqs = {}\n",
        "\n",
        "for industry, group in df.groupby('industry') :\n",
        " second_allSkills = [skill for skills  in group['Extracted_Skills'] for skill in skills]\n",
        "\n",
        " freqDist_second = FreqDist(second_allSkills)\n",
        "\n",
        " industry_skill_freqs[industry] = freqDist_second\n",
        "\n",
        "\n",
        "for industry in [\"Information Technology\", \"Finance\", \"Subsidiary or Business Segment\"]:\n",
        "    print(f\"\\nTop skills in {industry}:\")\n",
        "    for skill, freq in industry_skill_freqs[industry].most_common(5):\n",
        "        print(f\"  {skill}: {freq}\")\n",
        "\n"
      ]
    },
    {
      "cell_type": "code",
      "source": [
        "#Uppercase all strings in a list\n",
        "names = [\"alice\", \"bob\", \"charlie\"]\n",
        "\n",
        "for name in names :\n",
        "  print(name.upper())\n",
        "\n",
        "upper_case_names = [name.upper() for name in names]\n",
        "\n",
        "print(upper_case_names)\n",
        "\n"
      ],
      "metadata": {
        "colab": {
          "base_uri": "https://localhost:8080/"
        },
        "id": "ikTVhXSHoTyS",
        "outputId": "6fd323f4-7518-44e2-cbda-b65da86faa6f"
      },
      "execution_count": 3,
      "outputs": [
        {
          "output_type": "stream",
          "name": "stdout",
          "text": [
            "['ALICE', 'BOB', 'CHARLIE']\n"
          ]
        }
      ]
    }
  ],
  "metadata": {
    "colab": {
      "provenance": []
    },
    "kernelspec": {
      "display_name": "Python 3",
      "name": "python3"
    },
    "language_info": {
      "name": "python"
    }
  },
  "nbformat": 4,
  "nbformat_minor": 0
}