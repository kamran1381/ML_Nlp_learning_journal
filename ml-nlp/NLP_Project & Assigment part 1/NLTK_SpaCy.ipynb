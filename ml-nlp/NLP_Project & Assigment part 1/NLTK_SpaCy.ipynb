{
  "cells": [
    {
      "cell_type": "markdown",
      "source": [],
      "metadata": {
        "id": "UI58aDZWolr3"
      }
    },
    {
      "cell_type": "markdown",
      "source": [
        "# NLP YouTube Workshop (Session 1)\n",
        "\n",
        "Welcome to the first session of our NLP Workshop Notebook! In this introductory module, we'll lay the groundwork for understanding and applying Natural Language Processing techniques using Python's NLTK and spaCy packages. 🤓\n"
      ],
      "metadata": {
        "id": "b-XdRx7uJm0v"
      }
    },
    {
      "cell_type": "markdown",
      "source": [
        "## 1. NLP Toolkit\n",
        "1. **[NLTK (Natural Language Toolkit)](https://en.wikipedia.org/wiki/Natural_Language_Toolkit)** is a comprehensive open-source Python library designed for *educational* and *research* purposes in natural language processing. It provides robust tools for tasks like tokenization, stemming, lemmatization, parsing, and more, backed by extensive corpora and lexical resources. [The Natural Language Toolkit](https://www.nltk.org/)\n",
        "\n",
        "2. **[spaCy](https://en.wikipedia.org/wiki/SpaCy)** is an *industrial-strength* NLP library in Python tailored for real-world applications, emphasizing speed and accuracy in tasks such as tokenization, named entity recognition, and dependency parsing. Its modern API and efficient design make it ideal for processing large-scale text data. [spaCy Documentation](https://spacy.io/)"
      ],
      "metadata": {
        "id": "BB_U7m8FJk5Q"
      }
    },
    {
      "cell_type": "code",
      "execution_count": null,
      "metadata": {
        "id": "lIYdn1woOS1n"
      },
      "outputs": [],
      "source": [
        "# --- NLTK Setup ---\n",
        "!pip install nltk\n",
        "import nltk\n",
        "# Download essential NLTK datasets: tokenizers, stopwords, WordNet, etc.\n",
        "nltk.download('punkt')\n",
        "nltk.download('punkt_tab')\n",
        "nltk.download('stopwords')\n",
        "nltk.download('wordnet')\n",
        "nltk.download('gutenberg')\n",
        "nltk.download('averaged_perceptron_tagger_eng')\n",
        "\n",
        "# --- spaCy Setup ---\n",
        "!pip install spacy\n",
        "import spacy\n",
        "\n",
        "# Download and load the small English model for spaCy\n",
        "!python -m spacy download en_core_web_sm\n",
        "nlp = spacy.load(\"en_core_web_sm\")\n"
      ]
    },
    {
      "cell_type": "markdown",
      "source": [
        "### **WordNet:**\n",
        "WordNet is a comprehensive lexical database within NLTK that organizes English words into synonym sets (synsets) to facilitate semantic analysis; alternatives like BabelNet or ConceptNet extend these capabilities to multilingual and broader semantic relationships.\n",
        "\n",
        "### **Gutenberg:**\n",
        "The Gutenberg corpus in NLTK is a curated collection of classic literary texts sourced from Project Gutenberg, offering diverse works for exploring historical language patterns and stylistic nuances; alternatives like the Brown Corpus or Reuters Corpus provide additional perspectives for varied text analysis.\n",
        "\n",
        "### **Punkt:**\n",
        "Punkt is an unsupervised sentence tokenizer in NLTK that intelligently segments text into sentences using learned punctuation patterns, while spaCy’s built-in sentence segmentation offers a statistical alternative with robust boundary detection.\n",
        "\n",
        "### **en_core_web_sm:**\n",
        "The spaCy model en_core_web_sm is a lightweight yet efficient English model for tasks such as tokenization, POS tagging, dependency parsing, and NER; for enhanced accuracy and richer features, consider its larger counterparts—en_core_web_md, en_core_web_lg, or the transformer-based en_core_web_trf."
      ],
      "metadata": {
        "id": "ubVO_GdERyVL"
      }
    },
    {
      "cell_type": "code",
      "source": [
        "# our example in this work\n",
        "short_text = \"Natural Language Processing is fun and educational.\"\n",
        "long_text = 'Dr. Smith, traveled to Washington, D.C. on Jan. 5th for a cutting-edge NLP conference. During his keynote, he explained that advancements in tokenization techniques—particularly those implemented in NLTK and spaCy (e.g., handling abbreviations like \"Dr.\" and \"e.g.\" seamlessly)—are transforming text analysis.'\n",
        "text_emails = \"Contact us at admin.support_34@example.com or sales-dep@company.org for inquiries.\"\n"
      ],
      "metadata": {
        "id": "6fbQpjeXaxLo"
      },
      "execution_count": null,
      "outputs": []
    },
    {
      "cell_type": "markdown",
      "source": [
        "## 2. Corpora and Lexical Resources\n",
        "Corpora and Lexical Resources are essential for understanding language structure and semantics. They provide extensive collections of texts (corpora) and structured word relationships (lexical databases) that support tasks like language modeling, semantic analysis, and more.\n",
        "\n"
      ],
      "metadata": {
        "id": "XGyHPx81Zqt1"
      }
    },
    {
      "cell_type": "code",
      "source": [
        "import nltk\n",
        "nltk.download('wordnet')\n",
        "from nltk.corpus import wordnet as wn\n",
        "# Retrieve synsets for the word 'computer'\n",
        "synsets = wn.synsets('great')\n",
        "print(\"WordNet Synsets for 'computer':\", synsets)\n"
      ],
      "metadata": {
        "colab": {
          "base_uri": "https://localhost:8080/"
        },
        "id": "gDxc7B1xaUJc",
        "outputId": "b96f6180-c7e5-46e3-ae10-8d5c37e1dd12"
      },
      "execution_count": null,
      "outputs": [
        {
          "output_type": "stream",
          "name": "stdout",
          "text": [
            "[Synset('computer.n.01'), Synset('calculator.n.01')]\n"
          ]
        },
        {
          "output_type": "stream",
          "name": "stderr",
          "text": [
            "[nltk_data] Downloading package wordnet to /root/nltk_data...\n",
            "[nltk_data]   Package wordnet is already up-to-date!\n"
          ]
        }
      ]
    },
    {
      "cell_type": "code",
      "source": [
        "import nltk\n",
        "nltk.download('gutenberg')\n",
        "from nltk.corpus import gutenberg\n",
        "# List available files in the Gutenberg corpus\n",
        "print(\"Gutenberg Files:\", gutenberg.fileids())\n"
      ],
      "metadata": {
        "colab": {
          "base_uri": "https://localhost:8080/"
        },
        "id": "ddu1Bb5rZqbd",
        "outputId": "45942483-02f8-4b69-f264-666f7172c933"
      },
      "execution_count": null,
      "outputs": [
        {
          "output_type": "stream",
          "name": "stdout",
          "text": [
            "Gutenberg Files: ['austen-emma.txt', 'austen-persuasion.txt', 'austen-sense.txt', 'bible-kjv.txt', 'blake-poems.txt', 'bryant-stories.txt', 'burgess-busterbrown.txt', 'carroll-alice.txt', 'chesterton-ball.txt', 'chesterton-brown.txt', 'chesterton-thursday.txt', 'edgeworth-parents.txt', 'melville-moby_dick.txt', 'milton-paradise.txt', 'shakespeare-caesar.txt', 'shakespeare-hamlet.txt', 'shakespeare-macbeth.txt', 'whitman-leaves.txt']\n"
          ]
        },
        {
          "output_type": "stream",
          "name": "stderr",
          "text": [
            "[nltk_data] Downloading package gutenberg to /root/nltk_data...\n",
            "[nltk_data]   Package gutenberg is already up-to-date!\n"
          ]
        }
      ]
    },
    {
      "cell_type": "markdown",
      "source": [
        "### spaCy Lexical Resources\n",
        "While spaCy does not include separate corpora like NLTK, its language models (e.g., en_core_web_sm) incorporate rich lexical data, including vocabulary, part-of-speech tags, and dependency structures.\n"
      ],
      "metadata": {
        "id": "iUjT-FsGafwM"
      }
    },
    {
      "cell_type": "code",
      "source": [
        "import spacy\n",
        "nlp = spacy.load('en_core_web_sm')\n",
        "\n",
        "short_text = \"Natural Language Processing is fun and educational.\"\n",
        "doc = nlp(short_text)\n",
        "# Print token, lemma, POS tag, and dependency relation for each token\n",
        "for token in doc:\n",
        "    print(f\"Token: {token.text}, Lemma: {token.lemma_}, POS: {token.pos_}, Dep: {token.dep_}\")\n"
      ],
      "metadata": {
        "id": "KL3mBlBLadc4",
        "colab": {
          "base_uri": "https://localhost:8080/"
        },
        "outputId": "69bee0fb-e8cd-4c11-c42b-77f2d5a723ac"
      },
      "execution_count": null,
      "outputs": [
        {
          "output_type": "stream",
          "name": "stdout",
          "text": [
            "Token: Natural, Lemma: Natural, POS: PROPN, Dep: compound\n",
            "Token: Language, Lemma: Language, POS: PROPN, Dep: compound\n",
            "Token: Processing, Lemma: processing, POS: NOUN, Dep: nsubj\n",
            "Token: is, Lemma: be, POS: AUX, Dep: ROOT\n",
            "Token: fun, Lemma: fun, POS: ADJ, Dep: acomp\n",
            "Token: and, Lemma: and, POS: CCONJ, Dep: cc\n",
            "Token: educational, Lemma: educational, POS: ADJ, Dep: conj\n",
            "Token: ., Lemma: ., POS: PUNCT, Dep: punct\n"
          ]
        }
      ]
    },
    {
      "cell_type": "markdown",
      "source": [
        "## 3. Tokenization Techniques\n",
        "Tokenization is the process of splitting text into smaller units such as words or sentences, which simplifies subsequent text analysis and processing.\n",
        "\n"
      ],
      "metadata": {
        "id": "zwzdlsxxK2RJ"
      }
    },
    {
      "cell_type": "code",
      "source": [
        "import nltk\n",
        "nltk.download('punkt_tab')\n",
        "# NLTK Tokenization\n",
        "# Word Tokenization with NLTK\n",
        "long_text = 'Dr. Smith, traveled to Washington, D.C. on Jan. 5th for a cutting-edge NLP conference! During his keynote, he explained that advancements in tokenization techniques—particularly those implemented in NLTK and spaCy (e.g., handling abbreviations like \"Dr.\" and \"e.g.\" seamlessly)—are transforming text analysis.'\n",
        "\n",
        "words = nltk.word_tokenize(long_text)\n",
        "print(\"Word Tokens:\", words)\n",
        "\n",
        "# Sentence Tokenization with NLTK:\n",
        "sentences = nltk.sent_tokenize(long_text)\n",
        "print(\"Sentence Tokens:\", sentences)\n",
        "print(len(sentences))\n"
      ],
      "metadata": {
        "id": "xX3QUxznK5or",
        "outputId": "04c683e8-b590-4d8c-b675-5011a808f50a",
        "colab": {
          "base_uri": "https://localhost:8080/"
        }
      },
      "execution_count": null,
      "outputs": [
        {
          "output_type": "stream",
          "name": "stderr",
          "text": [
            "[nltk_data] Downloading package punkt_tab to /root/nltk_data...\n",
            "[nltk_data]   Unzipping tokenizers/punkt_tab.zip.\n"
          ]
        },
        {
          "output_type": "stream",
          "name": "stdout",
          "text": [
            "Word Tokens: ['Dr.', 'Smith', ',', 'traveled', 'to', 'Washington', ',', 'D.C.', 'on', 'Jan.', '5th', 'for', 'a', 'cutting-edge', 'NLP', 'conference', '!', 'During', 'his', 'keynote', ',', 'he', 'explained', 'that', 'advancements', 'in', 'tokenization', 'techniques—particularly', 'those', 'implemented', 'in', 'NLTK', 'and', 'spaCy', '(', 'e.g.', ',', 'handling', 'abbreviations', 'like', '``', 'Dr.', \"''\", 'and', '``', 'e.g', '.', \"''\", 'seamlessly', ')', '—are', 'transforming', 'text', 'analysis', '.']\n",
            "Sentence Tokens: ['Dr. Smith, traveled to Washington, D.C. on Jan. 5th for a cutting-edge NLP conference!', 'During his keynote, he explained that advancements in tokenization techniques—particularly those implemented in NLTK and spaCy (e.g., handling abbreviations like \"Dr.\" and \"e.g.\"', 'seamlessly)—are transforming text analysis.']\n",
            "3\n"
          ]
        }
      ]
    },
    {
      "cell_type": "code",
      "source": [
        "import spacy\n",
        "\n",
        "nlp = spacy.load('en_core_web_sm')\n",
        "\n",
        "text = 'SpaCy is a powerful NLP library. It supports many useful features'\n",
        "doc = nlp(text)\n",
        "\n",
        "# print(\"sentence Tokenization :\" )\n",
        "# for sent in doc.sents :\n",
        "#   print(sent)\n",
        "\n",
        "#word tokenization in spaCy\n",
        "for token in doc :\n",
        "  print(token.text)\n",
        "\n",
        "# spaCy Tokenization\n",
        "# Word Tokenization with spaCy:\n"
      ],
      "metadata": {
        "id": "4WvUEeiKTZHc",
        "outputId": "b743b923-0360-49ba-baa9-8461dde9a348",
        "colab": {
          "base_uri": "https://localhost:8080/"
        }
      },
      "execution_count": null,
      "outputs": [
        {
          "output_type": "stream",
          "name": "stdout",
          "text": [
            "SpaCy\n",
            "is\n",
            "a\n",
            "powerful\n",
            "NLP\n",
            "library\n",
            ".\n",
            "It\n",
            "supports\n",
            "many\n",
            "useful\n",
            "features\n"
          ]
        }
      ]
    },
    {
      "cell_type": "markdown",
      "source": [
        "## 4. Regex for Pattern Matching\n",
        "\n",
        "Regex for pattern matching is a powerful technique to extract or filter specific text patterns. With NLTK, you can leverage its RegexpTokenizer to tokenize text based on custom regex patterns, while spaCy’s Matcher enables regex-like matching within its robust linguistic framework.\n",
        "\n"
      ],
      "metadata": {
        "id": "aVA4WIAmK4Br"
      }
    },
    {
      "cell_type": "code",
      "source": [
        "# NLTK Regex Example\n",
        "from nltk.tokenize import RegexpTokenizer\n",
        "text = \"Hello world! This is an example: email@example.com, phone: 123-456-7890.\"\n",
        "\n",
        "# Define a tokenizer that captures alphanumeric words\n",
        "tokenizer = RegexpTokenizer(r'\\w+')\n",
        "tokens = tokenizer.tokenize(text)\n",
        "print(\"NLTK Regex Tokens:\", tokens)"
      ],
      "metadata": {
        "id": "uXL-nbm1K59y",
        "colab": {
          "base_uri": "https://localhost:8080/"
        },
        "outputId": "8e158c87-24cf-4150-f4af-bce1bbec207c"
      },
      "execution_count": null,
      "outputs": [
        {
          "output_type": "stream",
          "name": "stdout",
          "text": [
            "NLTK Regex Tokens: ['Hello', 'world', 'This', 'is', 'an', 'example', 'email', 'example', 'com', 'phone', '123', '456', '7890']\n"
          ]
        }
      ]
    },
    {
      "cell_type": "code",
      "source": [
        "# spaCy Regex Example\n",
        "from spacy.matcher import Matcher\n",
        "\n",
        "# Load the small English model\n",
        "nlp = spacy.load(\"en_core_web_sm\")\n",
        "matcher = Matcher(nlp.vocab)\n",
        "\n",
        "# Define a regex-based pattern: match tokens that start with a capital letter\n",
        "pattern = [{\"TEXT\": {\"REGEX\": \"^[A-Z][a-z]+\"}}]\n",
        "matcher.add(\"CAPITAL_PATTERN\", [pattern])\n",
        "\n",
        "text = \"Hello world! This is an Example sentence.\"\n",
        "doc = nlp(text)\n",
        "\n",
        "# Apply the matcher and print matched tokens\n",
        "matches = matcher(doc)\n",
        "for match_id, start, end in matches:\n",
        "    span = doc[start:end]\n",
        "    print(\"Matched token:\", span.text)\n"
      ],
      "metadata": {
        "colab": {
          "base_uri": "https://localhost:8080/"
        },
        "id": "X7FQfmQAbfOK",
        "outputId": "55c203fa-141c-4f69-de13-2fe7a03c3de9"
      },
      "execution_count": null,
      "outputs": [
        {
          "output_type": "stream",
          "name": "stdout",
          "text": [
            "Matched token: Hello\n",
            "Matched token: This\n",
            "Matched token: Example\n"
          ]
        }
      ]
    },
    {
      "cell_type": "code",
      "source": [
        "import re\n",
        "text_emails = \"Contact us at admin.support_34@example.com or sales-dep@company.org for inquiries.\"\n",
        "\n",
        "# Example 1: Email Detection\n",
        "email_pattern = r\"[a-zA-Z0-9._%+-]+@[a-zA-Z0-9.-]+\\.[a-zA-Z]{2,}\"  # Regex for email matching\n",
        "\n",
        "emails = re.findall(email_pattern, text_emails)\n",
        "print(\"Detected Emails:\", emails)\n"
      ],
      "metadata": {
        "colab": {
          "base_uri": "https://localhost:8080/"
        },
        "id": "m5Xl8N93bpEd",
        "outputId": "c5c7ed51-676b-406c-da1e-a5e98a5833a8"
      },
      "execution_count": null,
      "outputs": [
        {
          "output_type": "stream",
          "name": "stdout",
          "text": [
            "Detected Emails: ['admin.support_34@example.com', 'sales-dep@company.org']\n"
          ]
        }
      ]
    },
    {
      "cell_type": "markdown",
      "source": [
        "## 5. Stopwords Filtering\n",
        "\n",
        "Stopwords filtering involves removing commonly used words (e.g., \"the\", \"is\", \"at\") that often add little semantic value to text analysis. This process helps focus on more meaningful terms. NLTK offers a comprehensive list of stopwords, whereas spaCy incorporates an internal attribute for each token to determine if it is a stopword."
      ],
      "metadata": {
        "id": "xcwWc9CULCG8"
      }
    },
    {
      "cell_type": "code",
      "source": [
        "# NLTK Stopwords Filtering\n",
        "from nltk.corpus import stopwords\n",
        "\n",
        "text = \"This is a simple example demonstrating stopword removal in natural language processing.! this is for research purposes only!\"\n",
        "words = nltk.word_tokenize(text)\n",
        "filtered_words = [word for word in words if word.lower() not in stopwords.words('english')]\n",
        "print(\"Filtered Words:\", filtered_words)\n"
      ],
      "metadata": {
        "colab": {
          "base_uri": "https://localhost:8080/"
        },
        "id": "P9NfGN-QbtuK",
        "outputId": "8bfca986-abe1-409e-eb60-fa4a41fc8786"
      },
      "execution_count": null,
      "outputs": [
        {
          "output_type": "stream",
          "name": "stdout",
          "text": [
            "Filtered Words: ['simple', 'example', 'demonstrating', 'stopword', 'removal', 'natural', 'language', 'processing', '.']\n"
          ]
        }
      ]
    },
    {
      "cell_type": "code",
      "source": [
        "# spaCy Stopwords Filtering\n",
        "#and also removing punctioations\n",
        "sample_text = 'This is a simple example demonstrating stopword removal in natural language processing.! this is for research purposes only!'\n",
        "doc = nlp(sample_text)\n",
        "filtered_tokens = [\n",
        "    token.text for token in doc\n",
        "    if not token.is_stop and not token.is_punct\n",
        "]\n",
        "print(\"Filtered Tokens:\", filtered_tokens)\n"
      ],
      "metadata": {
        "id": "usk6SGqrK8Qw",
        "colab": {
          "base_uri": "https://localhost:8080/"
        },
        "outputId": "795f2abd-108d-4983-bccb-9de2244fb268"
      },
      "execution_count": null,
      "outputs": [
        {
          "output_type": "stream",
          "name": "stdout",
          "text": [
            "Filtered Tokens: ['simple', 'example', 'demonstrating', 'stopword', 'removal', 'natural', 'language', 'processing', 'research', 'purposes']\n"
          ]
        }
      ]
    },
    {
      "cell_type": "markdown",
      "source": [
        "## 6. Stemming Methods\n",
        "\n",
        "Stemming reduces words to their root forms by removing affixes, thus simplifying text for analysis and retrieval tasks. NLTK offers robust stemming algorithms like Porter, Lancaster, and Snowball. While spaCy focuses on lemmatization for morphological normalization, you can integrate NLTK's stemmers with spaCy's tokenization if stemming is required."
      ],
      "metadata": {
        "id": "b8aXW-XgK8mV"
      }
    },
    {
      "cell_type": "code",
      "source": [
        "# NLTK Stemming Example\n",
        "import nltk\n",
        "nltk.download('punkt_tab')\n",
        "from nltk.stem import PorterStemmer , LancasterStemmer\n",
        "\n",
        "# Initialize the PorterStemmer\n",
        "ps = PorterStemmer()\n",
        "Ln = LancasterStemmer()\n",
        "# sn = SnowballStemmer(language=\"english\")\n",
        "text = \"caring careful  cares  cats  boxes wolves\"\n",
        "words = nltk.word_tokenize(text)\n",
        "stems = [ps.stem(word) for word in words]\n",
        "Ln_stems = [Ln.stem(word) for word in  words]\n",
        "# sn_stems = [ps.stem(word) for word in words]\n",
        "print(\"NLTK porterStmmer Words:\", stems)\n",
        "# print(\"NLTK Snowball Words:\", sn_stems)\n",
        "print(\"NLTK Lancaster Words:\", Ln_stems)"
      ],
      "metadata": {
        "id": "ykUhuPe_K88i",
        "colab": {
          "base_uri": "https://localhost:8080/"
        },
        "outputId": "ed80a572-4a3b-4161-8589-1bccb054b8aa"
      },
      "execution_count": null,
      "outputs": [
        {
          "output_type": "stream",
          "name": "stdout",
          "text": [
            "NLTK porterStmmer Words: ['care', 'care', 'care', 'cat', 'box', 'wolv']\n",
            "NLTK Lancaster Words: ['car', 'car', 'car', 'cat', 'box', 'wolv']\n"
          ]
        },
        {
          "output_type": "stream",
          "name": "stderr",
          "text": [
            "[nltk_data] Downloading package punkt_tab to /root/nltk_data...\n",
            "[nltk_data]   Package punkt_tab is already up-to-date!\n"
          ]
        }
      ]
    },
    {
      "cell_type": "code",
      "source": [
        "# Integrating NLTK Stemming with spaCy\n",
        "from nltk.stem import PorterStemmer\n",
        "\n",
        "# Load spaCy's small English model\n",
        "ps = PorterStemmer()\n",
        "\n",
        "doc = nlp(\"running runner easily run\")\n",
        "stems = [ps.stem(token.text) for token in doc]\n",
        "print(\"spaCy Integrated Stemmed Tokens:\", stems)\n"
      ],
      "metadata": {
        "id": "WY4Y4EQFLERL"
      },
      "execution_count": null,
      "outputs": []
    },
    {
      "cell_type": "markdown",
      "source": [
        "## 7. Lemmatization Strategies\n",
        "\n",
        "Lemmatization converts words into their base or dictionary forms by analyzing their context and morphology, resulting in more meaningful representations than simple stemming. NLTK uses the WordNetLemmatizer with the WordNet database, while spaCy provides built-in lemmatization integrated within its processing pipeline."
      ],
      "metadata": {
        "id": "seF8VOaBK_Gb"
      }
    },
    {
      "cell_type": "code",
      "source": [
        "# NLTK Lemmatization Example\n",
        "import nltk\n",
        "nltk.download('wordnet')\n",
        "from nltk.stem import WordNetLemmatizer\n",
        "\n",
        "lemmatizer = WordNetLemmatizer()\n",
        "text = \"The striped bats are hanging on their feet for best\"\n",
        "words = nltk.word_tokenize(text)\n",
        "lemmatized_words = [lemmatizer.lemmatize(word) for word in words]\n",
        "print(\"NLTK Lemmatized Words:\", lemmatized_words)\n"
      ],
      "metadata": {
        "id": "C7Z7aRYQLM0m",
        "colab": {
          "base_uri": "https://localhost:8080/"
        },
        "outputId": "8cdc23d2-2453-43ba-f5d0-887747f3578e"
      },
      "execution_count": null,
      "outputs": [
        {
          "output_type": "stream",
          "name": "stderr",
          "text": [
            "[nltk_data] Downloading package wordnet to /root/nltk_data...\n"
          ]
        },
        {
          "output_type": "stream",
          "name": "stdout",
          "text": [
            "NLTK Lemmatized Words: ['The', 'striped', 'bat', 'are', 'hanging', 'on', 'their', 'foot', 'for', 'best']\n"
          ]
        }
      ]
    },
    {
      "cell_type": "code",
      "source": [
        "text = \"The striped bats are hanging on their feet for best\"\n",
        "doc = nlp(text)\n",
        "lemmatized_tokens = [token.lemma_ for token in doc]\n",
        "print(\"spaCy Lemmatized Tokens:\", lemmatized_tokens)\n"
      ],
      "metadata": {
        "id": "c69wk-IALHD5",
        "colab": {
          "base_uri": "https://localhost:8080/",
          "height": 193
        },
        "outputId": "05de5f15-bc63-4bc1-82ac-7cf1041021a0"
      },
      "execution_count": null,
      "outputs": [
        {
          "output_type": "error",
          "ename": "NameError",
          "evalue": "name 'nlp' is not defined",
          "traceback": [
            "\u001b[0;31m---------------------------------------------------------------------------\u001b[0m",
            "\u001b[0;31mNameError\u001b[0m                                 Traceback (most recent call last)",
            "\u001b[0;32m<ipython-input-10-7798903>\u001b[0m in \u001b[0;36m<cell line: 0>\u001b[0;34m()\u001b[0m\n\u001b[1;32m      1\u001b[0m \u001b[0mtext\u001b[0m \u001b[0;34m=\u001b[0m \u001b[0;34m\"The striped bats are hanging on their feet for best\"\u001b[0m\u001b[0;34m\u001b[0m\u001b[0;34m\u001b[0m\u001b[0m\n\u001b[0;32m----> 2\u001b[0;31m \u001b[0mdoc\u001b[0m \u001b[0;34m=\u001b[0m \u001b[0mnlp\u001b[0m\u001b[0;34m(\u001b[0m\u001b[0mtext\u001b[0m\u001b[0;34m)\u001b[0m\u001b[0;34m\u001b[0m\u001b[0;34m\u001b[0m\u001b[0m\n\u001b[0m\u001b[1;32m      3\u001b[0m \u001b[0mlemmatized_tokens\u001b[0m \u001b[0;34m=\u001b[0m \u001b[0;34m[\u001b[0m\u001b[0mtoken\u001b[0m\u001b[0;34m.\u001b[0m\u001b[0mlemma_\u001b[0m \u001b[0;32mfor\u001b[0m \u001b[0mtoken\u001b[0m \u001b[0;32min\u001b[0m \u001b[0mdoc\u001b[0m\u001b[0;34m]\u001b[0m\u001b[0;34m\u001b[0m\u001b[0;34m\u001b[0m\u001b[0m\n\u001b[1;32m      4\u001b[0m \u001b[0mprint\u001b[0m\u001b[0;34m(\u001b[0m\u001b[0;34m\"spaCy Lemmatized Tokens:\"\u001b[0m\u001b[0;34m,\u001b[0m \u001b[0mlemmatized_tokens\u001b[0m\u001b[0;34m)\u001b[0m\u001b[0;34m\u001b[0m\u001b[0;34m\u001b[0m\u001b[0m\n",
            "\u001b[0;31mNameError\u001b[0m: name 'nlp' is not defined"
          ]
        }
      ]
    },
    {
      "cell_type": "markdown",
      "source": [
        "## 8. Parsing and Chunking\n",
        "\n",
        "Parsing involves analyzing a sentence's grammatical structure, while chunking groups tokens into higher-level units like noun phrases. NLTK employs rule-based parsers for chunking, and spaCy utilizes statistical models to identify syntactic dependencies and extract phrase chunks."
      ],
      "metadata": {
        "id": "FF0w487YK6Lu"
      }
    },
    {
      "cell_type": "code",
      "source": [
        "import nltk\n",
        "nltk.download('averaged_perceptron_tagger_eng')\n",
        "# NLTK Parsing and Chunking Example\n",
        "# Tokenize and tag parts of speech\n",
        "\n",
        "text = \"The quick brown fox jumps over the lazy dog.\"\n",
        "tokens = nltk.word_tokenize(text)\n",
        "tagged_tokens = nltk.pos_tag(tokens)\n",
        "\n",
        "# Define a simple chunk grammar for noun phrases (NP)\n",
        "grammar = \"NP: {<DT>?<JJ>*<NN>}\"\n",
        "\n",
        "# Create a RegexpParser object and parse the tagged tokens\n",
        "cp = nltk.RegexpParser(grammar)\n",
        "parsed_tree = cp.parse(tagged_tokens)\n",
        "\n",
        "print(\"NLTK Parsed Tree:\" , parsed_tree)\n",
        "\n",
        "# Uncomment the line below to visualize the tree (requires GUI support)\n",
        "# parsed_tree.pretty_print()\n"
      ],
      "metadata": {
        "colab": {
          "base_uri": "https://localhost:8080/"
        },
        "id": "Ly3n8Ivgch5a",
        "outputId": "99acb92e-4fb0-4640-8d70-3f6f299cf0a6"
      },
      "execution_count": null,
      "outputs": [
        {
          "output_type": "stream",
          "name": "stderr",
          "text": [
            "[nltk_data] Downloading package punkt to /root/nltk_data...\n",
            "[nltk_data]   Unzipping tokenizers/punkt.zip.\n"
          ]
        },
        {
          "output_type": "stream",
          "name": "stdout",
          "text": [
            "NLTK Parsed Tree (Single Line): (S (NP The/DT quick/JJ brown/NN) (NP fox/NN) jumps/VBZ over/IN (NP the/DT lazy/JJ dog/NN) ./.)\n"
          ]
        },
        {
          "output_type": "stream",
          "name": "stderr",
          "text": [
            "[nltk_data] Downloading package averaged_perceptron_tagger_eng to\n",
            "[nltk_data]     /root/nltk_data...\n",
            "[nltk_data]   Package averaged_perceptron_tagger_eng is already up-to-\n",
            "[nltk_data]       date!\n"
          ]
        }
      ]
    },
    {
      "cell_type": "code",
      "source": [
        "# Extract and print noun chunks using spaCy's built-in functionality\n",
        "print(\"spaCy Noun Chunks:\")\n",
        "for chunk in doc.noun_chunks:\n",
        "    print(chunk.text)\n"
      ],
      "metadata": {
        "colab": {
          "base_uri": "https://localhost:8080/"
        },
        "id": "xZtiTHNKc6mx",
        "outputId": "a0bf0e9d-0f3e-4ee1-8138-ef04fd2bea5a"
      },
      "execution_count": null,
      "outputs": [
        {
          "output_type": "stream",
          "name": "stdout",
          "text": [
            "spaCy Noun Chunks:\n",
            "The striped bats\n",
            "their feet\n"
          ]
        }
      ]
    },
    {
      "cell_type": "markdown",
      "source": [
        "## 9. Hyponyms and Hypernyms Exploration\n",
        "\n",
        "Hyponyms and hypernyms are semantic relationships that organize words hierarchically—hyponyms denote more specific terms (e.g., \"poodle\" for \"dog\"), while hypernyms represent more general categories (e.g., \"canine\" for \"dog\"). NLTK’s WordNet is a powerful resource for exploring these relationships. Although spaCy doesn't natively extract hypernyms and hyponyms, you can integrate its NLP capabilities with NLTK’s WordNet for extended lexical analysis. We can not do this directly at spaCy..it is better to to this in nltk."
      ],
      "metadata": {
        "id": "XYzkGYcdLHQj"
      }
    },
    {
      "cell_type": "code",
      "source": [
        "# NLTK WordNet Example\n",
        "\n",
        "from nltk.corpus import wordnet as wn\n",
        "\n",
        "# Choose a synset for the word 'dog'\n",
        "dog_synset = wn.synset('dog.n.01')\n",
        "\n",
        "# Retrieve hypernyms (more general terms)\n",
        "hypernyms = dog_synset.hypernyms()\n",
        "print(\"Hypernyms of 'dog':\", hypernyms)\n",
        "\n",
        "# Retrieve hyponyms (more specific terms)\n",
        "hyponyms = dog_synset.hyponyms()\n",
        "print(\"Hyponyms of 'dog':\", hyponyms)\n"
      ],
      "metadata": {
        "id": "t9RMAvhmLMAn",
        "colab": {
          "base_uri": "https://localhost:8080/"
        },
        "outputId": "d462211d-916f-4df6-a40e-88bb31132885"
      },
      "execution_count": null,
      "outputs": [
        {
          "output_type": "stream",
          "name": "stdout",
          "text": [
            "Hypernyms of 'dog': [Synset('canine.n.02'), Synset('domestic_animal.n.01')]\n",
            "Hyponyms of 'dog': [Synset('basenji.n.01'), Synset('great_pyrenees.n.01'), Synset('working_dog.n.01'), Synset('poodle.n.01'), Synset('toy_dog.n.01'), Synset('mexican_hairless.n.01'), Synset('puppy.n.01'), Synset('hunting_dog.n.01'), Synset('newfoundland.n.01'), Synset('corgi.n.01'), Synset('griffon.n.02'), Synset('dalmatian.n.02'), Synset('leonberg.n.01'), Synset('cur.n.01'), Synset('pooch.n.01'), Synset('pug.n.01'), Synset('lapdog.n.01'), Synset('spitz.n.01')]\n"
          ]
        }
      ]
    },
    {
      "cell_type": "code",
      "source": [
        "# Integrating spaCy with NLTK for Lexical Exploration\n",
        "\n",
        "from nltk.corpus import wordnet as wn\n",
        "\n",
        "# Load spaCy's small English model\n",
        "nlp = spacy.load(\"en_core_web_sm\")\n",
        "doc = nlp(\"The dog barked at the mailman.\")\n",
        "\n",
        "# Find the token 'dog' and explore its lexical relationships using NLTK's WordNet\n",
        "for token in doc:\n",
        "    if token.text.lower() == 'dog':\n",
        "        synsets = wn.synsets(token.text, pos=wn.NOUN)\n",
        "        if synsets:\n",
        "            synset = synsets[0]\n",
        "            hypernyms = synset.hypernyms()\n",
        "            hyponyms = synset.hyponyms()\n",
        "            print(f\"Token: {token.text}\")\n",
        "            print(\"Hypernyms:\", hypernyms)\n",
        "            print(\"Hyponyms:\", hyponyms)\n"
      ],
      "metadata": {
        "id": "ByrSkJO6LMXa",
        "colab": {
          "base_uri": "https://localhost:8080/"
        },
        "outputId": "7ced143e-7df8-41b3-a5fa-023bce1a3687"
      },
      "execution_count": null,
      "outputs": [
        {
          "output_type": "stream",
          "name": "stdout",
          "text": [
            "Token: dog\n",
            "Hypernyms: [Synset('canine.n.02'), Synset('domestic_animal.n.01')]\n",
            "Hyponyms: [Synset('basenji.n.01'), Synset('great_pyrenees.n.01'), Synset('working_dog.n.01'), Synset('poodle.n.01'), Synset('toy_dog.n.01'), Synset('mexican_hairless.n.01'), Synset('puppy.n.01'), Synset('hunting_dog.n.01'), Synset('newfoundland.n.01'), Synset('corgi.n.01'), Synset('griffon.n.02'), Synset('dalmatian.n.02'), Synset('leonberg.n.01'), Synset('cur.n.01'), Synset('pooch.n.01'), Synset('pug.n.01'), Synset('lapdog.n.01'), Synset('spitz.n.01')]\n"
          ]
        }
      ]
    },
    {
      "cell_type": "markdown",
      "source": [
        "## Name Entity Recognition (NER)\n",
        "\n"
      ],
      "metadata": {
        "id": "Qckyl7jxaczJ"
      }
    },
    {
      "cell_type": "code",
      "source": [
        "import spacy\n",
        "\n",
        "nlp = spacy.load(\"en_core_web_sm\")\n",
        "text = \"Apple Inc. announced a new partnership with OpenAI at the annual Oscar Award event in California.\"\n",
        "\n",
        "doc = nlp(text)\n",
        "\n",
        "print(\"Named Entities:\")\n",
        "for ent in doc.ents:\n",
        "    print(f\"{ent.text} -> {ent.label_}\")\n",
        "\n",
        "\n",
        "# ORG (Organization)\n",
        "# GPE (Geopolitical Entity)\n"
      ],
      "metadata": {
        "colab": {
          "base_uri": "https://localhost:8080/"
        },
        "id": "KAwpv_3Xagpm",
        "outputId": "36705188-a5ef-4863-a81f-8c8ba686c521"
      },
      "execution_count": null,
      "outputs": [
        {
          "output_type": "stream",
          "name": "stdout",
          "text": [
            "Named Entities:\n",
            "Apple Inc. -> ORG\n",
            "OpenAI -> GPE\n",
            "Oscar Award -> WORK_OF_ART\n",
            "California -> GPE\n"
          ]
        }
      ]
    },
    {
      "cell_type": "code",
      "source": [
        "import nltk\n",
        "import string\n",
        "from nltk.corpus import gutenberg, stopwords\n",
        "from nltk.tokenize import word_tokenize\n",
        "from nltk.stem import PorterStemmer, WordNetLemmatizer\n",
        "\n",
        "\n",
        "# Select a text file from Gutenberg (e.g., 'shakespeare-hamlet.txt')\n",
        "file_id = \"shakespeare-hamlet.txt\"\n",
        "raw_text = gutenberg.raw(file_id)\n",
        "\n",
        "# Step 1: Text Cleaning (Removing Gutenberg Header/Footer)\n",
        "def clean_text(text):\n",
        "    lines = text.split(\"\\n\") # break (enter - new line)\n",
        "    start_idx, end_idx = 0, len(lines)\n",
        "\n",
        "    # Removing Gutenberg boilerplate (First few and last few lines)\n",
        "    for i, line in enumerate(lines):\n",
        "        if \"START OF THIS PROJECT GUTENBERG\" in line:\n",
        "            start_idx = i + 1\n",
        "        if \"END OF THIS PROJECT GUTENBERG\" in line:\n",
        "            end_idx = i\n",
        "            break\n",
        "\n",
        "    cleaned_lines = lines[start_idx:end_idx]\n",
        "    cleaned_text = \" \".join(cleaned_lines)\n",
        "    return cleaned_text\n",
        "\n",
        "text = clean_text(raw_text)\n",
        "\n",
        "# Step 2: Lowercase\n",
        "text = text.lower()\n",
        "\n",
        "# Step 3: Tokenization\n",
        "tokens = word_tokenize(text)\n",
        "\n",
        "# Step 4: Remove Punctuation & Stopwords\n",
        "stop_words = set(stopwords.words(\"english\"))\n",
        "tokens = [word for word in tokens if word.isalnum() and word not in stop_words]\n",
        "\n",
        "# Step 5: Stemming & Lemmatization\n",
        "stemmer = PorterStemmer()\n",
        "lemmatizer = WordNetLemmatizer()\n",
        "\n",
        "stemmed_tokens = [stemmer.stem(word) for word in tokens]\n",
        "lemmatized_tokens = [lemmatizer.lemmatize(word) for word in tokens]\n",
        "\n",
        "# Step 6: Convert back to text\n",
        "stemmed_text = \" \".join(stemmed_tokens)\n",
        "lemmatized_text = \" \".join(lemmatized_tokens)\n",
        "\n",
        "# Output Results\n",
        "print(\"Original Text (First 500 characters):\\n\", text[:500])\n",
        "print(\"\\nStemmed Text (First 500 characters):\\n\", stemmed_text[:500])\n",
        "print(\"\\nLemmatized Text (First 500 characters):\\n\", lemmatized_text[:500])\n"
      ],
      "metadata": {
        "colab": {
          "base_uri": "https://localhost:8080/"
        },
        "id": "g7SooLNC6Gpn",
        "outputId": "effdd7a6-1e8e-45ed-f101-c17d5554ad16"
      },
      "execution_count": null,
      "outputs": [
        {
          "output_type": "stream",
          "name": "stdout",
          "text": [
            "Original Text (First 500 characters):\n",
            " [the tragedie of hamlet by william shakespeare 1599]   actus primus. scoena prima.  enter barnardo and francisco two centinels.    barnardo. who's there?   fran. nay answer me: stand & vnfold your selfe     bar. long liue the king     fran. barnardo?   bar. he     fran. you come most carefully vpon your houre     bar. 'tis now strook twelue, get thee to bed francisco     fran. for this releefe much thankes: 'tis bitter cold, and i am sicke at heart     barn. haue you had quiet guard?   fran. not\n",
            "\n",
            "Stemmed Text (First 500 characters):\n",
            " tragedi hamlet william shakespear 1599 actu primu scoena prima enter barnardo francisco two centinel barnardo fran nay answer stand vnfold self bar long liue king fran barnardo bar fran come care vpon hour bar strook twelu get thee bed francisco fran releef much thank bitter cold sick heart barn haue quiet guard fran mous stir barn well goodnight meet horatio marcellu riual watch bid make hast enter horatio marcellu fran think hear stand hor friend ground mar dane fran giue good night mar farwel\n",
            "\n",
            "Lemmatized Text (First 500 characters):\n",
            " tragedie hamlet william shakespeare 1599 actus primus scoena prima enter barnardo francisco two centinels barnardo fran nay answer stand vnfold selfe bar long liue king fran barnardo bar fran come carefully vpon houre bar strook twelue get thee bed francisco fran releefe much thankes bitter cold sicke heart barn haue quiet guard fran mouse stirring barn well goodnight meet horatio marcellus riuals watch bid make hast enter horatio marcellus fran thinke heare stand hor friend ground mar dane fran\n"
          ]
        }
      ]
    }
  ],
  "metadata": {
    "colab": {
      "provenance": []
    },
    "kernelspec": {
      "display_name": "Python 3",
      "name": "python3"
    }
  },
  "nbformat": 4,
  "nbformat_minor": 0
}