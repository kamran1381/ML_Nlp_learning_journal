{
  "nbformat": 4,
  "nbformat_minor": 0,
  "metadata": {
    "colab": {
      "provenance": []
    },
    "kernelspec": {
      "name": "python3",
      "display_name": "Python 3"
    },
    "language_info": {
      "name": "python"
    }
  },
  "cells": [
    {
      "cell_type": "markdown",
      "source": [
        "##python beginner tasks\n",
        "\n",
        "In this notebook I will be going over some python tasks to boost my problem solving skills and improve my programming as well."
      ],
      "metadata": {
        "id": "DGlUHJKtzZkP"
      }
    },
    {
      "cell_type": "markdown",
      "source": [
        "##Task 1 : FizzBuzz (Logic + Modulo)\n",
        "FizzBuzz (Logic + modolu)\n",
        "\n",
        "Print numbers from 1 to 100:\n",
        "\n",
        "If a number is divisible by 3 → print \"Fizz\"\n",
        "\n",
        "If divisible by 5 → print \"Buzz\"\n",
        "\n",
        "If divisible by both → print \"FizzBuzz\"\n",
        "\n",
        "Otherwise, just print the number"
      ],
      "metadata": {
        "id": "WeEgRU4fzwh_"
      }
    },
    {
      "cell_type": "code",
      "source": [
        "def fizzbuzz(n):\n",
        "    if n <= 0:\n",
        "        print(\"Entered num must be greater than zero\")\n",
        "        return\n",
        "\n",
        "    for i in range(1, n + 1):\n",
        "        if i % 3 == 0 and i % 5 == 0:\n",
        "            print(\"FizzBuzz\")\n",
        "        elif i % 3 == 0:\n",
        "            print(\"Fizz\")\n",
        "        elif i % 5 == 0:\n",
        "            print(\"Buzz\")\n",
        "        else:\n",
        "            print(i)\n",
        "\n",
        "fizzbuzz(3)\n"
      ],
      "metadata": {
        "colab": {
          "base_uri": "https://localhost:8080/"
        },
        "id": "zThaQg6h0D7G",
        "outputId": "693566c2-f977-4cfb-a1f8-003c53147d81"
      },
      "execution_count": null,
      "outputs": [
        {
          "output_type": "stream",
          "name": "stdout",
          "text": [
            "1\n",
            "2\n",
            "Fizz\n"
          ]
        }
      ]
    },
    {
      "cell_type": "markdown",
      "source": [
        "#task 2 : Count vowels in a sentence\n",
        "Write a function that:\n",
        "\n",
        "Takes a sentence as input\n",
        "\n",
        "Returns the number of vowels (a, e, i, o, u)\n"
      ],
      "metadata": {
        "id": "WnA85QbY_a-k"
      }
    },
    {
      "cell_type": "code",
      "source": [
        "def count_vowelvs(text) :\n",
        "  vowels = \"aeiou\"\n",
        "  count = 0\n",
        "  for char in text :\n",
        "    if char in vowels :\n",
        "      count += 1\n",
        "  return count\n",
        "\n",
        "result = count_vowelvs('salam khobi ')\n",
        "print(result)"
      ],
      "metadata": {
        "colab": {
          "base_uri": "https://localhost:8080/"
        },
        "id": "V0HEkBGl_4Xk",
        "outputId": "057197a2-2869-448c-9095-2bf210a30967"
      },
      "execution_count": null,
      "outputs": [
        {
          "output_type": "stream",
          "name": "stdout",
          "text": [
            "7\n"
          ]
        }
      ]
    },
    {
      "cell_type": "markdown",
      "source": [
        "##Challenge 2.1 – Word Count\n",
        "\n",
        "Write a function that takes a sentence and returns the number of words in it."
      ],
      "metadata": {
        "id": "JMWNrk_Gqcvj"
      }
    },
    {
      "cell_type": "code",
      "source": [
        "def countWords(text):\n",
        "  textCount = len(text.split())\n",
        "  return textCount\n",
        "\n",
        "result = countWords('salam donyia')\n",
        "\n",
        "print(result)"
      ],
      "metadata": {
        "colab": {
          "base_uri": "https://localhost:8080/"
        },
        "id": "ap1en6_7qsrC",
        "outputId": "fb44c25e-532d-4140-fd94-0e82dbd7366f"
      },
      "execution_count": null,
      "outputs": [
        {
          "output_type": "stream",
          "name": "stdout",
          "text": [
            "2\n"
          ]
        }
      ]
    },
    {
      "cell_type": "markdown",
      "source": [
        "##Challenge 2.2 – Remove Punctuation\n",
        "\n",
        "Write a function that removes punctuation from a sentence and returns the clean version."
      ],
      "metadata": {
        "id": "UWfgdLrHsMKF"
      }
    },
    {
      "cell_type": "code",
      "source": [
        "import string\n",
        "\n",
        "def removePunctuation(text):\n",
        "    translator = str.maketrans('', '', string.punctuation)\n",
        "    cleanText = text.translate(translator)\n",
        "    return cleanText\n",
        "\n",
        "result = removePunctuation('Hi! How are you?')\n",
        "print(result)\n",
        "\n",
        "#the text.translate(None, string.punctuation) syntax for python two.in python three translate() needs a translation table.\n",
        "\n"
      ],
      "metadata": {
        "colab": {
          "base_uri": "https://localhost:8080/"
        },
        "id": "8vZRsMuZsZSa",
        "outputId": "b3d9d365-0556-4c8e-8685-0cc775f1e6ee"
      },
      "execution_count": null,
      "outputs": [
        {
          "output_type": "stream",
          "name": "stdout",
          "text": [
            "Hi How are you\n"
          ]
        }
      ]
    },
    {
      "cell_type": "markdown",
      "source": [
        "##Challenge 2.3 – Count Vowels\n",
        "\n",
        "Write a function that counts the number of vowels in a sentence (a, e, i, o, u).\n",
        "\n",
        "..an interesting task when dealing with vowels. I was wondering whether it is important if the letters are lower or upper case. It turns if for example 'A' and 'I' are upper case and won't match any 'a' or 'i' in your vowels list.\n",
        "\n"
      ],
      "metadata": {
        "id": "Wmit8zJw3SoC"
      }
    },
    {
      "cell_type": "code",
      "source": [
        "def countVowles(sentence):\n",
        "  vowel = ['a', 'e', 'i', 'o', 'u']\n",
        "  count = 0\n",
        "  for letter in sentence.lower():\n",
        "    if letter in vowel:\n",
        "      count += 1\n",
        "  return count\n",
        "\n",
        "result = countVowles('salam khobi')\n",
        "print(result)\n"
      ],
      "metadata": {
        "colab": {
          "base_uri": "https://localhost:8080/"
        },
        "id": "fQOYhcEE30dI",
        "outputId": "55f6db73-4fbe-41e8-899d-296142108264"
      },
      "execution_count": null,
      "outputs": [
        {
          "output_type": "stream",
          "name": "stdout",
          "text": [
            "4\n"
          ]
        }
      ]
    },
    {
      "cell_type": "markdown",
      "source": [
        "## Challenge 2.4 – Reverse the Words in a Sentence\n",
        "\n",
        "Write a function that takes a sentence and reverses the order of the words, not the letters.\n",
        "\n"
      ],
      "metadata": {
        "id": "9vk48qCsA1xH"
      }
    },
    {
      "cell_type": "code",
      "source": [
        "def reverseWords(sentence):\n",
        "  textSplit = sentence.split()\n",
        "  textSplit.reverse()\n",
        "  result = \" \".join(textSplit)\n",
        "  return result\n",
        "\n",
        "output = reverseWords('my name is kamran')\n",
        "print(output)\n",
        "\n",
        "\n"
      ],
      "metadata": {
        "id": "CwbElmHMBEjZ",
        "colab": {
          "base_uri": "https://localhost:8080/"
        },
        "outputId": "fe14852d-681c-4236-f868-2eca5b808ee7"
      },
      "execution_count": 3,
      "outputs": [
        {
          "output_type": "stream",
          "name": "stdout",
          "text": [
            "kamran is name my\n"
          ]
        }
      ]
    },
    {
      "cell_type": "markdown",
      "source": [
        "## Challenge 2.5 – Capitalize Each Word\n",
        "Write a function that takes a sentence and capitalizes the first letter of each word.\n",
        "\n"
      ],
      "metadata": {
        "id": "PA2yJDx6IsTY"
      }
    },
    {
      "cell_type": "code",
      "source": [
        "def capitalize(sentence):\n",
        "  return ' '.join(s[:1].upper() + s[1:] for s in sentence.split(' '))\n",
        "\n",
        "\n",
        "output = capitalize('hi how are you')\n",
        "\n",
        "print(output)"
      ],
      "metadata": {
        "colab": {
          "base_uri": "https://localhost:8080/"
        },
        "id": "PADjp93HI19f",
        "outputId": "905c9f2e-3b9d-42b8-e750-3e7daa007e49"
      },
      "execution_count": 13,
      "outputs": [
        {
          "output_type": "stream",
          "name": "stdout",
          "text": [
            "Hi How Are You\n"
          ]
        }
      ]
    }
  ]
}