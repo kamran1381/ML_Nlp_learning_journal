{
  "nbformat": 4,
  "nbformat_minor": 0,
  "metadata": {
    "colab": {
      "provenance": []
    },
    "kernelspec": {
      "name": "python3",
      "display_name": "Python 3"
    },
    "language_info": {
      "name": "python"
    }
  },
  "cells": [
    {
      "cell_type": "markdown",
      "source": [
        "##What are Descritpive statistcs?\n",
        "Statistics is the foundation of data science. Descriptive statistics are simple tools that help us understand and summarize data. They show the basic features of a dataset, like the average, highest and lowest values and how spread out the numbers are. It's the first step in making sense of information.\n",
        "\n",
        "We will be using numpy to further dig deeper and soldify our understanding for this subject"
      ],
      "metadata": {
        "id": "UXj1C_tuhGpI"
      }
    },
    {
      "cell_type": "markdown",
      "source": [
        "##1.  Measures of centeral tendencay\n",
        "       statistal values that describe the centeral position within a\n",
        "       dataset. There are three main measures of centeral tendency. Mean mode and\n",
        "       median.\n",
        "       "
      ],
      "metadata": {
        "id": "pUpGRZEtjoDq"
      }
    },
    {
      "cell_type": "markdown",
      "source": [
        "#1.1 Median\n",
        "is the sum of observations divided by the total number of observations. It is also defined as average which is the sum divided by count.\n",
        "\n",
        "in other words numpy counted the numbers inside of the numArray and then it divided sum by the count.\n",
        "\n"
      ],
      "metadata": {
        "id": "gWknAKfjj5Y3"
      }
    },
    {
      "cell_type": "code",
      "source": [
        "import numpy as np\n",
        "\n",
        "numArray = [-2 , -1 , 0 , 1 , 1 , 1 , 5 , 9]\n",
        "\n",
        "mean = np.mean(numArray)\n",
        "\n",
        "print('mean = ' , mean)"
      ],
      "metadata": {
        "colab": {
          "base_uri": "https://localhost:8080/"
        },
        "id": "4PNlr5zzkGen",
        "outputId": "7d44fd36-0dc8-4ba4-fcd4-3c09b0893b26"
      },
      "execution_count": null,
      "outputs": [
        {
          "output_type": "stream",
          "name": "stdout",
          "text": [
            "mean =  1.75\n"
          ]
        }
      ]
    },
    {
      "cell_type": "markdown",
      "source": [
        "**bold text**## 2 Mode\n",
        "The most frequently occurring value in the dataset. It’s useful for categorical data and in cases where knowing the most common choice is crucial."
      ],
      "metadata": {
        "id": "5rt9bAmvunwf"
      }
    },
    {
      "cell_type": "code",
      "source": [
        "import scipy.stats as stats\n",
        "\n",
        "numList = [-2 , -1 , 0 , 1 , 1 , 1 , 5 , 9]\n",
        "\n",
        "mode = stats.mode(numList)\n",
        "\n",
        "print(mode)\n"
      ],
      "metadata": {
        "colab": {
          "base_uri": "https://localhost:8080/"
        },
        "id": "K5wd5Zzdu-KA",
        "outputId": "d153a846-c1a0-4708-c85a-0bb114f3094a"
      },
      "execution_count": null,
      "outputs": [
        {
          "output_type": "stream",
          "name": "stdout",
          "text": [
            "ModeResult(mode=np.int64(1), count=np.int64(3))\n"
          ]
        }
      ]
    },
    {
      "cell_type": "markdown",
      "source": [
        "##3 Median\n",
        "The median is the middle value in a sorted dataset. If the number of values is odd, it's the center value, if even, it's the average of the two middle values. It's often better than the mean for skewed data."
      ],
      "metadata": {
        "id": "7jS13Un5xwgo"
      }
    },
    {
      "cell_type": "code",
      "source": [
        "import numpy as np\n",
        "\n",
        "dataArray = [-2 , -1 , 0 , 1 , 1 , 1 , 5 , 9]\n",
        "\n",
        "median = np.median(dataArray)\n",
        "\n",
        "print(median)"
      ],
      "metadata": {
        "colab": {
          "base_uri": "https://localhost:8080/"
        },
        "id": "0Xpm4kz9ylEd",
        "outputId": "ca8148a0-0d39-4080-cca5-f11a46b07ad1"
      },
      "execution_count": null,
      "outputs": [
        {
          "output_type": "stream",
          "name": "stdout",
          "text": [
            "1.0\n"
          ]
        }
      ]
    },
    {
      "cell_type": "markdown",
      "source": [
        "##Challenge 1: Mean, Median, Mode\n",
        "\n",
        "Write a function that takes a NumPy array and returns:\n",
        "\n",
        "Mean\n",
        "\n",
        "Median\n",
        "\n",
        "Mode (manually or using scipy.stats.mode)*italicized text*"
      ],
      "metadata": {
        "id": "nTL6mQlEd2Hm"
      }
    },
    {
      "cell_type": "code",
      "source": [
        "import numpy as np\n",
        "from scipy import stats\n",
        "\n",
        "def tendency_with_numpy(numbers):\n",
        "    # Convert list to numpy array\n",
        "    arr = np.array(numbers)\n",
        "\n",
        "    # Mean\n",
        "    mean = np.mean(arr)\n",
        "\n",
        "    # Median\n",
        "    median = np.median(arr)\n",
        "\n",
        "    # Mode\n",
        "    mode_result = stats.mode(arr, keepdims=True)  # `keepdims=True` to avoid warning in recent scipy versions\n",
        "    mode = mode_result.mode[0] if mode_result.count[0] > 1 else \"No mode\"\n",
        "\n",
        "    return {\n",
        "        'mean': mean,\n",
        "        'median': median,\n",
        "        'mode': mode\n",
        "    }\n",
        "\n",
        "\n",
        "\n",
        "\n",
        "#I was thinking if you can achieve something like this using python only and not\n",
        "#any numpy and this is what I came up with after research\n",
        "\n",
        "# def tendency(numbers):\n",
        "#     # --- Mean ---\n",
        "#     total = sum(numbers)\n",
        "#     mean = total / len(numbers)\n",
        "\n",
        "#     # --- Median ---\n",
        "#     sorted_numbers = sorted(numbers)\n",
        "#     n = len(sorted_numbers)\n",
        "#     if n % 2 == 1:\n",
        "#         median = sorted_numbers[n // 2]\n",
        "#     else:\n",
        "#         median = (sorted_numbers[n // 2 - 1] + sorted_numbers[n // 2]) / 2\n",
        "\n",
        "#     # --- Mode ---\n",
        "#     counts = {}\n",
        "#     for num in numbers:\n",
        "#         counts[num] = counts.get(num, 0) + 1\n",
        "\n",
        "#     max_count = max(counts.values())\n",
        "#     mode = [k for k, v in counts.items() if v == max_count]\n",
        "\n",
        "#     if len(mode) == len(set(numbers)):\n",
        "#         mode = \"No mode\"  # All numbers appear only once\n",
        "\n",
        "#     return {\n",
        "#         'mean': mean,\n",
        "#         'median': median,\n",
        "#         'mode': mode\n",
        "#     }\n",
        "\n",
        "\n",
        "\n"
      ],
      "metadata": {
        "id": "tsgkA0Y_fpKA"
      },
      "execution_count": null,
      "outputs": []
    },
    {
      "cell_type": "markdown",
      "source": [
        "##Challenge 2: Range, Variance, and Standard Deviation\n",
        "\n",
        "wrtie a function that returns :\n",
        "\n",
        "-Max value\n",
        "\n",
        "-Min value\n",
        "\n",
        "_Range(Max -Min)\n",
        "\n",
        "_Variance\n",
        "\n",
        "_Standard deviation"
      ],
      "metadata": {
        "id": "AYk0wjNVvQ9K"
      }
    },
    {
      "cell_type": "code",
      "source": [
        "import numpy as np\n",
        "\n",
        "def rangeValues(nums) :\n",
        "  arrayNums = np.array(nums)\n",
        "  # range\n",
        "  range_All = np.max(arrayNums) - np.min(arrayNums)\n",
        "\n",
        "  #variance\n",
        "  varaince_All = np.var(arrayNums)\n",
        "  # return range_all\n",
        "  standard_Deviation = np.std(arrayNums)\n",
        "  return{\n",
        "      'Range' : range_All ,\n",
        "       \"Varaince\" :  varaince_All ,\n",
        "        \"standard_Deviation\" : standard_Deviation\n",
        "  }\n",
        "\n",
        "\n",
        "\n",
        "result = rangeValues([1 , 2 , 3 , 4 , 5 ,6])\n",
        "print(result)\n"
      ],
      "metadata": {
        "colab": {
          "base_uri": "https://localhost:8080/"
        },
        "id": "mSYAmVdEwxjD",
        "outputId": "b49b4133-aaf3-4616-fcb0-59287a6583dd"
      },
      "execution_count": 5,
      "outputs": [
        {
          "output_type": "stream",
          "name": "stdout",
          "text": [
            "{'Range': np.int64(5), 'Varaince': np.float64(2.9166666666666665), 'standard_Deviation': np.float64(1.707825127659933)}\n"
          ]
        }
      ]
    }
  ]
}